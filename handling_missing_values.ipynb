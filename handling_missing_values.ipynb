{
 "cells": [
  {
   "cell_type": "markdown",
   "id": "b62d73e9",
   "metadata": {},
   "source": [
    "##### Missing value Data"
   ]
  },
  {
   "cell_type": "code",
   "execution_count": 107,
   "id": "870d3605",
   "metadata": {},
   "outputs": [
    {
     "name": "stdout",
     "output_type": "stream",
     "text": [
      "     A    B  c\n",
      "0  1.0  5.0  1\n",
      "1  2.0  NaN  2\n",
      "2  NaN  NaN  3\n",
      "A    1.0\n",
      "B    5.0\n",
      "c    1.0\n",
      "Name: 0, dtype: float64\n"
     ]
    }
   ],
   "source": [
    "#adding missing values in dataframe : np.nan\n",
    "import numpy as np\n",
    "import pandas as pd\n",
    "df=pd.DataFrame({\"A\":[1,2,np.nan],\"B\":[5,np.nan,np.nan],\"c\":[1,2,3]})  #np.nan is used to add missing values \n",
    "print(df)\n",
    "#print(df[0:1])\n",
    "print(df.loc[0])\n"
   ]
  },
  {
   "cell_type": "code",
   "execution_count": 4,
   "id": "d81f7f9e",
   "metadata": {},
   "outputs": [
    {
     "data": {
      "text/plain": [
       "A    1\n",
       "B    2\n",
       "c    0\n",
       "dtype: int64"
      ]
     },
     "execution_count": 4,
     "metadata": {},
     "output_type": "execute_result"
    }
   ],
   "source": [
    "df.isnull().sum()  #to compute total missing values in all the columns"
   ]
  },
  {
   "cell_type": "code",
   "execution_count": 25,
   "id": "d4888f13",
   "metadata": {},
   "outputs": [
    {
     "data": {
      "text/html": [
       "<div>\n",
       "<style scoped>\n",
       "    .dataframe tbody tr th:only-of-type {\n",
       "        vertical-align: middle;\n",
       "    }\n",
       "\n",
       "    .dataframe tbody tr th {\n",
       "        vertical-align: top;\n",
       "    }\n",
       "\n",
       "    .dataframe thead th {\n",
       "        text-align: right;\n",
       "    }\n",
       "</style>\n",
       "<table border=\"1\" class=\"dataframe\">\n",
       "  <thead>\n",
       "    <tr style=\"text-align: right;\">\n",
       "      <th></th>\n",
       "      <th>Age</th>\n",
       "      <th>Height</th>\n",
       "    </tr>\n",
       "  </thead>\n",
       "  <tbody>\n",
       "    <tr>\n",
       "      <th>0</th>\n",
       "      <td>12.0</td>\n",
       "      <td>130.0</td>\n",
       "    </tr>\n",
       "    <tr>\n",
       "      <th>1</th>\n",
       "      <td>NaN</td>\n",
       "      <td>NaN</td>\n",
       "    </tr>\n",
       "    <tr>\n",
       "      <th>2</th>\n",
       "      <td>14.0</td>\n",
       "      <td>133.0</td>\n",
       "    </tr>\n",
       "    <tr>\n",
       "      <th>3</th>\n",
       "      <td>NaN</td>\n",
       "      <td>143.0</td>\n",
       "    </tr>\n",
       "    <tr>\n",
       "      <th>4</th>\n",
       "      <td>16.0</td>\n",
       "      <td>123.0</td>\n",
       "    </tr>\n",
       "    <tr>\n",
       "      <th>5</th>\n",
       "      <td>12.0</td>\n",
       "      <td>NaN</td>\n",
       "    </tr>\n",
       "    <tr>\n",
       "      <th>6</th>\n",
       "      <td>13.0</td>\n",
       "      <td>NaN</td>\n",
       "    </tr>\n",
       "    <tr>\n",
       "      <th>7</th>\n",
       "      <td>14.0</td>\n",
       "      <td>NaN</td>\n",
       "    </tr>\n",
       "    <tr>\n",
       "      <th>8</th>\n",
       "      <td>12.0</td>\n",
       "      <td>120.0</td>\n",
       "    </tr>\n",
       "    <tr>\n",
       "      <th>9</th>\n",
       "      <td>13.0</td>\n",
       "      <td>121.0</td>\n",
       "    </tr>\n",
       "  </tbody>\n",
       "</table>\n",
       "</div>"
      ],
      "text/plain": [
       "    Age  Height\n",
       "0  12.0   130.0\n",
       "1   NaN     NaN\n",
       "2  14.0   133.0\n",
       "3   NaN   143.0\n",
       "4  16.0   123.0\n",
       "5  12.0     NaN\n",
       "6  13.0     NaN\n",
       "7  14.0     NaN\n",
       "8  12.0   120.0\n",
       "9  13.0   121.0"
      ]
     },
     "execution_count": 25,
     "metadata": {},
     "output_type": "execute_result"
    }
   ],
   "source": [
    "#creating dataFrame with some missing values  under age and height column\n",
    "df1 = pd.DataFrame({\"Age\":[12,np.nan,14,np.nan,16,12,13,14,12,13],\"Height\":[130,np.nan,133,143,123,np.nan,np.nan,np.nan,120,121]})\n",
    "df1"
   ]
  },
  {
   "cell_type": "markdown",
   "id": "3d204e5b",
   "metadata": {},
   "source": [
    "# handling missing values: delete or fill with some values\n"
   ]
  },
  {
   "cell_type": "markdown",
   "id": "53a7f1ae",
   "metadata": {},
   "source": [
    "##### we can handle missing values  by \n",
    "1.filling with some values using fillna() method\n",
    "\n",
    "\n",
    "2.dropping the value"
   ]
  },
  {
   "cell_type": "markdown",
   "id": "4f6f6431",
   "metadata": {},
   "source": [
    "##### for intergal data we can fill missing value either by mean or median \n",
    "we use median : when we have few outliers(low and high values) and mostly we have values in specific range otherwise use meean\n",
    "\n",
    "\n",
    "\n",
    "\n",
    "###mostly median is used\n",
    "\n",
    "#### for categorical data : we use mode (most frequent value)"
   ]
  },
  {
   "cell_type": "code",
   "execution_count": 7,
   "id": "9576891b",
   "metadata": {},
   "outputs": [
    {
     "data": {
      "text/plain": [
       "13.25"
      ]
     },
     "execution_count": 7,
     "metadata": {},
     "output_type": "execute_result"
    }
   ],
   "source": [
    "df1[\"Age\"].mean()\n"
   ]
  },
  {
   "cell_type": "code",
   "execution_count": 29,
   "id": "03cbbf9f",
   "metadata": {},
   "outputs": [
    {
     "data": {
      "text/html": [
       "<div>\n",
       "<style scoped>\n",
       "    .dataframe tbody tr th:only-of-type {\n",
       "        vertical-align: middle;\n",
       "    }\n",
       "\n",
       "    .dataframe tbody tr th {\n",
       "        vertical-align: top;\n",
       "    }\n",
       "\n",
       "    .dataframe thead th {\n",
       "        text-align: right;\n",
       "    }\n",
       "</style>\n",
       "<table border=\"1\" class=\"dataframe\">\n",
       "  <thead>\n",
       "    <tr style=\"text-align: right;\">\n",
       "      <th></th>\n",
       "      <th>Age</th>\n",
       "      <th>Height</th>\n",
       "      <th>Gender</th>\n",
       "    </tr>\n",
       "  </thead>\n",
       "  <tbody>\n",
       "    <tr>\n",
       "      <th>0</th>\n",
       "      <td>12.0</td>\n",
       "      <td>130.0</td>\n",
       "      <td>m</td>\n",
       "    </tr>\n",
       "    <tr>\n",
       "      <th>1</th>\n",
       "      <td>NaN</td>\n",
       "      <td>NaN</td>\n",
       "      <td>f</td>\n",
       "    </tr>\n",
       "    <tr>\n",
       "      <th>2</th>\n",
       "      <td>14.0</td>\n",
       "      <td>133.0</td>\n",
       "      <td>NaN</td>\n",
       "    </tr>\n",
       "    <tr>\n",
       "      <th>3</th>\n",
       "      <td>NaN</td>\n",
       "      <td>143.0</td>\n",
       "      <td>m</td>\n",
       "    </tr>\n",
       "    <tr>\n",
       "      <th>4</th>\n",
       "      <td>26.0</td>\n",
       "      <td>123.0</td>\n",
       "      <td>NaN</td>\n",
       "    </tr>\n",
       "    <tr>\n",
       "      <th>5</th>\n",
       "      <td>12.0</td>\n",
       "      <td>NaN</td>\n",
       "      <td>f</td>\n",
       "    </tr>\n",
       "    <tr>\n",
       "      <th>6</th>\n",
       "      <td>13.0</td>\n",
       "      <td>NaN</td>\n",
       "      <td>m</td>\n",
       "    </tr>\n",
       "    <tr>\n",
       "      <th>7</th>\n",
       "      <td>24.0</td>\n",
       "      <td>NaN</td>\n",
       "      <td>NaN</td>\n",
       "    </tr>\n",
       "    <tr>\n",
       "      <th>8</th>\n",
       "      <td>12.0</td>\n",
       "      <td>120.0</td>\n",
       "      <td>NaN</td>\n",
       "    </tr>\n",
       "    <tr>\n",
       "      <th>9</th>\n",
       "      <td>13.0</td>\n",
       "      <td>121.0</td>\n",
       "      <td>m</td>\n",
       "    </tr>\n",
       "  </tbody>\n",
       "</table>\n",
       "</div>"
      ],
      "text/plain": [
       "    Age  Height Gender\n",
       "0  12.0   130.0      m\n",
       "1   NaN     NaN      f\n",
       "2  14.0   133.0    NaN\n",
       "3   NaN   143.0      m\n",
       "4  26.0   123.0    NaN\n",
       "5  12.0     NaN      f\n",
       "6  13.0     NaN      m\n",
       "7  24.0     NaN    NaN\n",
       "8  12.0   120.0    NaN\n",
       "9  13.0   121.0      m"
      ]
     },
     "execution_count": 29,
     "metadata": {},
     "output_type": "execute_result"
    }
   ],
   "source": [
    "#editing df1 by adding gender column with some missing values\n",
    "df1 = pd.DataFrame({\"Age\":[12,np.nan,14,np.nan,26,12,13,24,12,13],\"Height\":[130,np.nan,133,143,123,np.nan,np.nan,np.nan,120,121],\"Gender\":[\"m\",\"f\",np.nan,\"m\",np.nan,\"f\",\"m\",np.nan,np.nan,\"m\"]})\n",
    "df1\n"
   ]
  },
  {
   "cell_type": "code",
   "execution_count": 12,
   "id": "35ea5234",
   "metadata": {},
   "outputs": [
    {
     "data": {
      "text/plain": [
       "13.0"
      ]
     },
     "execution_count": 12,
     "metadata": {},
     "output_type": "execute_result"
    }
   ],
   "source": [
    "df1[\"Age\"].median()\n"
   ]
  },
  {
   "cell_type": "markdown",
   "id": "f45fc93c",
   "metadata": {},
   "source": [
    "###### filling missing values of \"age\" column with median "
   ]
  },
  {
   "cell_type": "code",
   "execution_count": 30,
   "id": "b181a748",
   "metadata": {},
   "outputs": [
    {
     "data": {
      "text/html": [
       "<div>\n",
       "<style scoped>\n",
       "    .dataframe tbody tr th:only-of-type {\n",
       "        vertical-align: middle;\n",
       "    }\n",
       "\n",
       "    .dataframe tbody tr th {\n",
       "        vertical-align: top;\n",
       "    }\n",
       "\n",
       "    .dataframe thead th {\n",
       "        text-align: right;\n",
       "    }\n",
       "</style>\n",
       "<table border=\"1\" class=\"dataframe\">\n",
       "  <thead>\n",
       "    <tr style=\"text-align: right;\">\n",
       "      <th></th>\n",
       "      <th>Age</th>\n",
       "      <th>Height</th>\n",
       "      <th>Gender</th>\n",
       "    </tr>\n",
       "  </thead>\n",
       "  <tbody>\n",
       "    <tr>\n",
       "      <th>0</th>\n",
       "      <td>12.0</td>\n",
       "      <td>130.0</td>\n",
       "      <td>m</td>\n",
       "    </tr>\n",
       "    <tr>\n",
       "      <th>1</th>\n",
       "      <td>13.0</td>\n",
       "      <td>NaN</td>\n",
       "      <td>f</td>\n",
       "    </tr>\n",
       "    <tr>\n",
       "      <th>2</th>\n",
       "      <td>14.0</td>\n",
       "      <td>133.0</td>\n",
       "      <td>NaN</td>\n",
       "    </tr>\n",
       "    <tr>\n",
       "      <th>3</th>\n",
       "      <td>13.0</td>\n",
       "      <td>143.0</td>\n",
       "      <td>m</td>\n",
       "    </tr>\n",
       "    <tr>\n",
       "      <th>4</th>\n",
       "      <td>26.0</td>\n",
       "      <td>123.0</td>\n",
       "      <td>NaN</td>\n",
       "    </tr>\n",
       "    <tr>\n",
       "      <th>5</th>\n",
       "      <td>12.0</td>\n",
       "      <td>NaN</td>\n",
       "      <td>f</td>\n",
       "    </tr>\n",
       "    <tr>\n",
       "      <th>6</th>\n",
       "      <td>13.0</td>\n",
       "      <td>NaN</td>\n",
       "      <td>m</td>\n",
       "    </tr>\n",
       "    <tr>\n",
       "      <th>7</th>\n",
       "      <td>24.0</td>\n",
       "      <td>NaN</td>\n",
       "      <td>NaN</td>\n",
       "    </tr>\n",
       "    <tr>\n",
       "      <th>8</th>\n",
       "      <td>12.0</td>\n",
       "      <td>120.0</td>\n",
       "      <td>NaN</td>\n",
       "    </tr>\n",
       "    <tr>\n",
       "      <th>9</th>\n",
       "      <td>13.0</td>\n",
       "      <td>121.0</td>\n",
       "      <td>m</td>\n",
       "    </tr>\n",
       "  </tbody>\n",
       "</table>\n",
       "</div>"
      ],
      "text/plain": [
       "    Age  Height Gender\n",
       "0  12.0   130.0      m\n",
       "1  13.0     NaN      f\n",
       "2  14.0   133.0    NaN\n",
       "3  13.0   143.0      m\n",
       "4  26.0   123.0    NaN\n",
       "5  12.0     NaN      f\n",
       "6  13.0     NaN      m\n",
       "7  24.0     NaN    NaN\n",
       "8  12.0   120.0    NaN\n",
       "9  13.0   121.0      m"
      ]
     },
     "execution_count": 30,
     "metadata": {},
     "output_type": "execute_result"
    }
   ],
   "source": [
    "df1.Age.fillna(df1.Age.median(),inplace=True)\n",
    "df1"
   ]
  },
  {
   "cell_type": "code",
   "execution_count": 33,
   "id": "a63fd3c4",
   "metadata": {},
   "outputs": [
    {
     "data": {
      "text/plain": [
       "Age       float64\n",
       "Height    float64\n",
       "Gender     object\n",
       "dtype: object"
      ]
     },
     "execution_count": 33,
     "metadata": {},
     "output_type": "execute_result"
    }
   ],
   "source": [
    "df1.dtypes   # checking types of all columns"
   ]
  },
  {
   "cell_type": "markdown",
   "id": "a1d49073",
   "metadata": {},
   "source": [
    "##### filling missing values of \"gender\"  column with its mode as it has categorical data "
   ]
  },
  {
   "cell_type": "code",
   "execution_count": 35,
   "id": "afce12d5",
   "metadata": {},
   "outputs": [
    {
     "data": {
      "text/plain": [
       "0    m\n",
       "dtype: object"
      ]
     },
     "execution_count": 35,
     "metadata": {},
     "output_type": "execute_result"
    }
   ],
   "source": [
    "df1[\"Gender\"].mode()  #gives most frequent value(,ultiple modes can be there thats y it give series where indexing is there thts y , 0 is there"
   ]
  },
  {
   "cell_type": "code",
   "execution_count": 37,
   "id": "a0483aac",
   "metadata": {},
   "outputs": [
    {
     "data": {
      "text/html": [
       "<div>\n",
       "<style scoped>\n",
       "    .dataframe tbody tr th:only-of-type {\n",
       "        vertical-align: middle;\n",
       "    }\n",
       "\n",
       "    .dataframe tbody tr th {\n",
       "        vertical-align: top;\n",
       "    }\n",
       "\n",
       "    .dataframe thead th {\n",
       "        text-align: right;\n",
       "    }\n",
       "</style>\n",
       "<table border=\"1\" class=\"dataframe\">\n",
       "  <thead>\n",
       "    <tr style=\"text-align: right;\">\n",
       "      <th></th>\n",
       "      <th>Age</th>\n",
       "      <th>Height</th>\n",
       "      <th>Gender</th>\n",
       "    </tr>\n",
       "  </thead>\n",
       "  <tbody>\n",
       "    <tr>\n",
       "      <th>0</th>\n",
       "      <td>12.0</td>\n",
       "      <td>130.0</td>\n",
       "      <td>m</td>\n",
       "    </tr>\n",
       "    <tr>\n",
       "      <th>1</th>\n",
       "      <td>13.0</td>\n",
       "      <td>NaN</td>\n",
       "      <td>f</td>\n",
       "    </tr>\n",
       "    <tr>\n",
       "      <th>2</th>\n",
       "      <td>14.0</td>\n",
       "      <td>133.0</td>\n",
       "      <td>m</td>\n",
       "    </tr>\n",
       "    <tr>\n",
       "      <th>3</th>\n",
       "      <td>13.0</td>\n",
       "      <td>143.0</td>\n",
       "      <td>m</td>\n",
       "    </tr>\n",
       "    <tr>\n",
       "      <th>4</th>\n",
       "      <td>26.0</td>\n",
       "      <td>123.0</td>\n",
       "      <td>m</td>\n",
       "    </tr>\n",
       "    <tr>\n",
       "      <th>5</th>\n",
       "      <td>12.0</td>\n",
       "      <td>NaN</td>\n",
       "      <td>f</td>\n",
       "    </tr>\n",
       "    <tr>\n",
       "      <th>6</th>\n",
       "      <td>13.0</td>\n",
       "      <td>NaN</td>\n",
       "      <td>m</td>\n",
       "    </tr>\n",
       "    <tr>\n",
       "      <th>7</th>\n",
       "      <td>24.0</td>\n",
       "      <td>NaN</td>\n",
       "      <td>m</td>\n",
       "    </tr>\n",
       "    <tr>\n",
       "      <th>8</th>\n",
       "      <td>12.0</td>\n",
       "      <td>120.0</td>\n",
       "      <td>m</td>\n",
       "    </tr>\n",
       "    <tr>\n",
       "      <th>9</th>\n",
       "      <td>13.0</td>\n",
       "      <td>121.0</td>\n",
       "      <td>m</td>\n",
       "    </tr>\n",
       "  </tbody>\n",
       "</table>\n",
       "</div>"
      ],
      "text/plain": [
       "    Age  Height Gender\n",
       "0  12.0   130.0      m\n",
       "1  13.0     NaN      f\n",
       "2  14.0   133.0      m\n",
       "3  13.0   143.0      m\n",
       "4  26.0   123.0      m\n",
       "5  12.0     NaN      f\n",
       "6  13.0     NaN      m\n",
       "7  24.0     NaN      m\n",
       "8  12.0   120.0      m\n",
       "9  13.0   121.0      m"
      ]
     },
     "execution_count": 37,
     "metadata": {},
     "output_type": "execute_result"
    }
   ],
   "source": [
    "#mode1=df1[\"Gender\"].mode()[0]   : it fectches m from index \n",
    "df1.Gender.fillna(df1[\"Gender\"].mode()[0],inplace=True)\n",
    "df1\n"
   ]
  },
  {
   "cell_type": "markdown",
   "id": "db86a825",
   "metadata": {},
   "source": [
    "##### removing missing values :  dropna()"
   ]
  },
  {
   "cell_type": "code",
   "execution_count": 94,
   "id": "a054b155",
   "metadata": {},
   "outputs": [
    {
     "name": "stdout",
     "output_type": "stream",
     "text": [
      "no of rows and columns is  (9, 119)\n"
     ]
    }
   ],
   "source": [
    "# importing the datset and checking no of rows and columns import pandas as pd\n",
    "import numpy as np\n",
    "data=pd.read_csv(\"D:\\\\python_datascience\\\\data sets\\\\upcoming-event.csv\")\n",
    "data.head()\n",
    "print(\"no of rows and columns is \",data.shape)\n",
    "\n",
    "\n"
   ]
  },
  {
   "cell_type": "code",
   "execution_count": 95,
   "id": "6089575c",
   "metadata": {},
   "outputs": [
    {
     "data": {
      "text/plain": [
       "R_fighter     0\n",
       "B_fighter     0\n",
       "R_odds        0\n",
       "B_odds        0\n",
       "R_ev          0\n",
       "             ..\n",
       "b_dec_odds    1\n",
       "r_sub_odds    0\n",
       "b_sub_odds    1\n",
       "r_ko_odds     0\n",
       "b_ko_odds     1\n",
       "Length: 119, dtype: int64"
      ]
     },
     "execution_count": 95,
     "metadata": {},
     "output_type": "execute_result"
    }
   ],
   "source": [
    "# this data has 119 columns : checking null values count in each column\n",
    "data.isnull().sum()"
   ]
  },
  {
   "cell_type": "code",
   "execution_count": 96,
   "id": "5b65ae52",
   "metadata": {},
   "outputs": [
    {
     "data": {
      "text/plain": [
       "B_fighter                0\n",
       "R_odds                   0\n",
       "B_odds                   0\n",
       "R_ev                     0\n",
       "B_ev                     0\n",
       "date                     0\n",
       "location                 0\n",
       "country                  0\n",
       "Winner                   9\n",
       "title_bout               0\n",
       "weight_class             0\n",
       "gender                   0\n",
       "no_of_rounds             0\n",
       "B_current_lose_streak    0\n",
       "B_current_win_streak     0\n",
       "B_draw                   0\n",
       "B_avg_SIG_STR_landed     0\n",
       "B_avg_SIG_STR_pct        0\n",
       "B_avg_SUB_ATT            0\n",
       "B_avg_TD_landed          0\n",
       "dtype: int64"
      ]
     },
     "execution_count": 96,
     "metadata": {},
     "output_type": "execute_result"
    }
   ],
   "source": [
    "# here the data is big so we check null values for column 1 to 20\n",
    "data.isnull().sum()[1:21]"
   ]
  },
  {
   "cell_type": "code",
   "execution_count": 97,
   "id": "30da5ff4",
   "metadata": {},
   "outputs": [
    {
     "data": {
      "text/plain": [
       "0   NaN\n",
       "1   NaN\n",
       "2   NaN\n",
       "3   NaN\n",
       "4   NaN\n",
       "5   NaN\n",
       "6   NaN\n",
       "7   NaN\n",
       "8   NaN\n",
       "Name: Winner, dtype: float64"
      ]
     },
     "execution_count": 97,
     "metadata": {},
     "output_type": "execute_result"
    }
   ],
   "source": [
    "#3 from above data we can see the column name winner has 9 null values meand in all rows  as follows so need to remove \n",
    "data.Winner"
   ]
  },
  {
   "cell_type": "code",
   "execution_count": 98,
   "id": "8aacacd8",
   "metadata": {},
   "outputs": [
    {
     "data": {
      "text/plain": [
       "(9, 118)"
      ]
     },
     "execution_count": 98,
     "metadata": {},
     "output_type": "execute_result"
    }
   ],
   "source": [
    "\n",
    "data.drop(columns=[\"Winner\"],inplace=True)\n",
    "data.shape  \n"
   ]
  },
  {
   "cell_type": "markdown",
   "id": "f201d33b",
   "metadata": {},
   "source": [
    "####  from above mentioned code  we found the column named winner which has 9 nan values so we deleted and check its shape is is showing 118 columns means winner column has been deleted"
   ]
  },
  {
   "cell_type": "code",
   "execution_count": 99,
   "id": "e989011f",
   "metadata": {},
   "outputs": [
    {
     "name": "stdout",
     "output_type": "stream",
     "text": [
      "Index(['R_fighter', 'B_fighter', 'R_odds', 'B_odds', 'R_ev', 'B_ev', 'date',\n",
      "       'location', 'country', 'title_bout',\n",
      "       ...\n",
      "       'finish_details', 'finish_round', 'finish_round_time',\n",
      "       'total_fight_time_secs', 'r_dec_odds', 'b_dec_odds', 'r_sub_odds',\n",
      "       'b_sub_odds', 'r_ko_odds', 'b_ko_odds'],\n",
      "      dtype='object', length=118)\n"
     ]
    },
    {
     "data": {
      "text/plain": [
       "Index(['B_fighter', 'R_odds', 'B_odds', 'R_ev', 'B_ev', 'date', 'location',\n",
       "       'country', 'title_bout', 'weight_class', 'gender', 'no_of_rounds',\n",
       "       'B_current_lose_streak', 'B_current_win_streak', 'B_draw',\n",
       "       'B_avg_SIG_STR_landed', 'B_avg_SIG_STR_pct', 'B_avg_SUB_ATT',\n",
       "       'B_avg_TD_landed'],\n",
       "      dtype='object')"
      ]
     },
     "execution_count": 99,
     "metadata": {},
     "output_type": "execute_result"
    }
   ],
   "source": [
    "## fetching all columns name \n",
    "print(data.columns)\n",
    "data.columns[1:20]\n"
   ]
  },
  {
   "cell_type": "code",
   "execution_count": 66,
   "id": "30391e83",
   "metadata": {},
   "outputs": [
    {
     "name": "stdout",
     "output_type": "stream",
     "text": [
      "B_match_weightclass_rank\n",
      "R_match_weightclass_rank\n",
      "R_Women's Flyweight_rank\n",
      "R_Women's Featherweight_rank\n",
      "R_Women's Strawweight_rank\n",
      "R_Women's Bantamweight_rank\n",
      "R_Heavyweight_rank\n",
      "R_Light Heavyweight_rank\n",
      "R_Middleweight_rank\n",
      "R_Welterweight_rank\n",
      "R_Lightweight_rank\n",
      "R_Featherweight_rank\n",
      "R_Bantamweight_rank\n",
      "R_Flyweight_rank\n",
      "R_Pound-for-Pound_rank\n",
      "B_Women's Flyweight_rank\n",
      "B_Women's Featherweight_rank\n",
      "B_Women's Strawweight_rank\n",
      "B_Women's Bantamweight_rank\n",
      "B_Heavyweight_rank\n",
      "B_Light Heavyweight_rank\n",
      "B_Middleweight_rank\n",
      "B_Welterweight_rank\n",
      "B_Lightweight_rank\n",
      "B_Featherweight_rank\n",
      "B_Bantamweight_rank\n",
      "B_Flyweight_rank\n",
      "B_Pound-for-Pound_rank\n",
      "finish\n",
      "finish_details\n",
      "finish_round\n",
      "finish_round_time\n",
      "total_fight_time_secs\n"
     ]
    }
   ],
   "source": [
    "## checking the columns which has null values greater than or equal to 7\n",
    "for i in data.columns:\n",
    "    if data[i].isnull().sum()>=7:\n",
    "        print(i)"
   ]
  },
  {
   "cell_type": "code",
   "execution_count": 100,
   "id": "9a307383",
   "metadata": {},
   "outputs": [
    {
     "data": {
      "text/plain": [
       "(9, 85)"
      ]
     },
     "execution_count": 100,
     "metadata": {},
     "output_type": "execute_result"
    }
   ],
   "source": [
    "## deleting all columns which has missing values greter than 7 or equal to 7\n",
    "for i in data.columns:\n",
    "    if data[i].isnull().sum()>=7:\n",
    "        data.drop(columns = [i],inplace = True)\n",
    "data.shape\n"
   ]
  },
  {
   "cell_type": "code",
   "execution_count": 67,
   "id": "2871ae9b",
   "metadata": {},
   "outputs": [
    {
     "data": {
      "text/plain": [
       "R_avg_SIG_STR_pct               0\n",
       "R_avg_SUB_ATT                   0\n",
       "R_avg_TD_landed                 0\n",
       "R_avg_TD_pct                    0\n",
       "R_longest_win_streak            0\n",
       "R_losses                        0\n",
       "R_total_rounds_fought           0\n",
       "R_total_title_bouts             0\n",
       "R_win_by_Decision_Majority      0\n",
       "R_win_by_Decision_Split         0\n",
       "R_win_by_Decision_Unanimous     0\n",
       "R_win_by_KO/TKO                 0\n",
       "R_win_by_Submission             0\n",
       "R_win_by_TKO_Doctor_Stoppage    0\n",
       "R_wins                          0\n",
       "R_Stance                        0\n",
       "R_Height_cms                    0\n",
       "R_Reach_cms                     0\n",
       "R_Weight_lbs                    0\n",
       "R_age                           0\n",
       "B_age                           0\n",
       "lose_streak_dif                 0\n",
       "win_streak_dif                  0\n",
       "longest_win_streak_dif          0\n",
       "win_dif                         0\n",
       "loss_dif                        0\n",
       "total_round_dif                 0\n",
       "total_title_bout_dif            0\n",
       "ko_dif                          0\n",
       "sub_dif                         0\n",
       "height_dif                      0\n",
       "reach_dif                       0\n",
       "age_dif                         0\n",
       "sig_str_dif                     0\n",
       "avg_sub_att_dif                 0\n",
       "avg_td_dif                      0\n",
       "empty_arena                     0\n",
       "constant_1                      0\n",
       "B_match_weightclass_rank        7\n",
       "R_match_weightclass_rank        7\n",
       "R_Women's Flyweight_rank        9\n",
       "R_Women's Featherweight_rank    9\n",
       "R_Women's Strawweight_rank      8\n",
       "R_Women's Bantamweight_rank     9\n",
       "R_Heavyweight_rank              9\n",
       "R_Light Heavyweight_rank        9\n",
       "dtype: int64"
      ]
     },
     "execution_count": 67,
     "metadata": {},
     "output_type": "execute_result"
    }
   ],
   "source": [
    "#checking more rest of the columns which has missing values \n",
    "data.isna().sum()[40:86]\n"
   ]
  },
  {
   "cell_type": "code",
   "execution_count": 68,
   "id": "d85f1d5d",
   "metadata": {},
   "outputs": [
    {
     "data": {
      "text/plain": [
       "(9, 82)"
      ]
     },
     "execution_count": 68,
     "metadata": {},
     "output_type": "execute_result"
    }
   ],
   "source": [
    "# this command is used to delete all those columns which has at least one missing value\n",
    "data.dropna(axis=1,inplace=True)\n",
    "data.shape"
   ]
  },
  {
   "cell_type": "code",
   "execution_count": 72,
   "id": "af714f8e",
   "metadata": {},
   "outputs": [
    {
     "data": {
      "text/plain": [
       "survived        0.000000\n",
       "pclass          0.000000\n",
       "sex             0.000000\n",
       "age            19.865320\n",
       "sibsp           0.000000\n",
       "parch           0.000000\n",
       "fare            0.000000\n",
       "embarked        0.224467\n",
       "class           0.000000\n",
       "who             0.000000\n",
       "adult_male      0.000000\n",
       "deck           77.216611\n",
       "embark_town     0.224467\n",
       "alive           0.000000\n",
       "alone           0.000000\n",
       "dtype: float64"
      ]
     },
     "execution_count": 72,
     "metadata": {},
     "output_type": "execute_result"
    }
   ],
   "source": [
    "# calculating percentage of missing values of all the columns based on its percentage we delete the columns like mostly \\\n",
    "#delete 75% missing value column data considered as irrelavant rest the columns must be cleaned by fillna\\\n",
    "#if they have 1 or 2 missing value\n",
    "import seaborn as sns\n",
    "import numpy as np\n",
    "data = sns.load_dataset('titanic')\n",
    "data.shape\n",
    "(data.isnull().sum()/data.shape[0])*100    # showing % of missing values of all the columns like deck has 77% missing values\n"
   ]
  },
  {
   "cell_type": "markdown",
   "id": "411e4391",
   "metadata": {},
   "source": [
    "### deleting nan values using dropna\n"
   ]
  },
  {
   "cell_type": "code",
   "execution_count": 89,
   "id": "0148df22",
   "metadata": {},
   "outputs": [
    {
     "name": "stdout",
     "output_type": "stream",
     "text": [
      "     A    B    c\n",
      "0  1.0  5.0  1.0\n",
      "1  2.0  NaN  2.0\n",
      "2  NaN  NaN  NaN\n",
      "3  5.0  7.0  9.0\n",
      "     A    B    c\n",
      "0  1.0  5.0  1.0\n",
      "3  5.0  7.0  9.0\n"
     ]
    }
   ],
   "source": [
    "##Dropping Rows with at least 1 null value.use : axis=0 and how='any'\n",
    "\n",
    "#Data frame is read and all rows with any Null values are dropped. \n",
    "\n",
    "import numpy as np\n",
    "import pandas as pd\n",
    "df=pd.DataFrame({\"A\":[1,2,np.nan,5],\"B\":[5,np.nan,np.nan,7],\"c\":[1,2,np.nan,9]})  #np.nan is used to add missing values \n",
    "print(df)\n",
    "\n",
    "# making new data frame with dropped NA values\n",
    "new_df = df.dropna(axis = 0, how ='any')\n",
    "  \n",
    "print(new_df)"
   ]
  },
  {
   "cell_type": "code",
   "execution_count": 90,
   "id": "6bcd38bf",
   "metadata": {},
   "outputs": [
    {
     "name": "stdout",
     "output_type": "stream",
     "text": [
      "     A    B    c\n",
      "0  1.0  5.0  1.0\n",
      "1  2.0  NaN  2.0\n",
      "2  NaN  NaN  NaN\n",
      "3  5.0  7.0  9.0\n",
      "     A    B    c\n",
      "0  1.0  5.0  1.0\n",
      "1  2.0  NaN  2.0\n",
      "3  5.0  7.0  9.0\n"
     ]
    }
   ],
   "source": [
    "##Dropping Rows with all null values.  use : axis=0 and how='all'\n",
    "\n",
    "\n",
    "\n",
    "import numpy as np\n",
    "import pandas as pd\n",
    "df=pd.DataFrame({\"A\":[1,2,np.nan,5],\"B\":[5,np.nan,np.nan,7],\"c\":[1,2,np.nan,9]})  #np.nan is used to add missing values \n",
    "print(df)\n",
    "\n",
    "# making new data frame with dropped NA values\n",
    "new_df = df.dropna(axis = 0, how ='all')\n",
    "  \n",
    "print(new_df)"
   ]
  },
  {
   "cell_type": "code",
   "execution_count": 91,
   "id": "df953f5b",
   "metadata": {},
   "outputs": [
    {
     "name": "stdout",
     "output_type": "stream",
     "text": [
      "     A    B  c\n",
      "0  1.0  5.0  1\n",
      "1  2.0  NaN  2\n",
      "2  NaN  NaN  4\n",
      "3  5.0  NaN  9\n",
      "   c\n",
      "0  1\n",
      "1  2\n",
      "2  4\n",
      "3  9\n"
     ]
    }
   ],
   "source": [
    "##Dropping columns with at least 1 null value. use : axis=1 and how='any'\n",
    "\n",
    "#Data frame is read and all rows with any Null values are dropped. \n",
    "\n",
    "import numpy as np\n",
    "import pandas as pd\n",
    "df=pd.DataFrame({\"A\":[1,2,np.nan,5],\"B\":[5,np.nan,np.nan,np.nan],\"c\":[1,2,4,9]})  #np.nan is used to add missing values \n",
    "print(df)\n",
    "\n",
    "# making new data frame with dropped NA values\n",
    "new_df = df.dropna(axis = 1, how ='any')\n",
    "  \n",
    "print(new_df)"
   ]
  },
  {
   "cell_type": "code",
   "execution_count": 1,
   "id": "40bb3cd1",
   "metadata": {},
   "outputs": [
    {
     "name": "stdout",
     "output_type": "stream",
     "text": [
      "     A   B  c\n",
      "0  1.0 NaN  1\n",
      "1  2.0 NaN  2\n",
      "2  NaN NaN  4\n",
      "3  5.0 NaN  9\n",
      "     A  c\n",
      "0  1.0  1\n",
      "1  2.0  2\n",
      "2  NaN  4\n",
      "3  5.0  9\n"
     ]
    }
   ],
   "source": [
    "##Dropping columns with all null value. use : axix =1 and how=all\n",
    "\n",
    "\n",
    "import numpy as np\n",
    "import pandas as pd\n",
    "df=pd.DataFrame({\"A\":[1,2,np.nan,5],\"B\":[np.nan,np.nan,np.nan,np.nan],\"c\":[1,2,4,9]})  #np.nan is used to add missing values \n",
    "print(df)\n",
    "\n",
    "# making new data frame with dropped NA values\n",
    "new_df = df.dropna(axis = 1, how ='all')\n",
    "  \n",
    "print(new_df)"
   ]
  },
  {
   "cell_type": "code",
   "execution_count": null,
   "id": "1a1264dc",
   "metadata": {},
   "outputs": [],
   "source": []
  }
 ],
 "metadata": {
  "kernelspec": {
   "display_name": "Python 3 (ipykernel)",
   "language": "python",
   "name": "python3"
  },
  "language_info": {
   "codemirror_mode": {
    "name": "ipython",
    "version": 3
   },
   "file_extension": ".py",
   "mimetype": "text/x-python",
   "name": "python",
   "nbconvert_exporter": "python",
   "pygments_lexer": "ipython3",
   "version": "3.9.7"
  }
 },
 "nbformat": 4,
 "nbformat_minor": 5
}
