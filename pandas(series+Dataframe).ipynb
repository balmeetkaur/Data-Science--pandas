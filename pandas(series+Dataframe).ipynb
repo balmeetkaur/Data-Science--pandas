{
 "cells": [
  {
   "cell_type": "markdown",
   "id": "f2fc6a80",
   "metadata": {},
   "source": [
    "#### pandas provide two data structures for manipulating data, They are: \n",
    "\n",
    "1 Series\n",
    "\n",
    "2 DataFrame"
   ]
  },
  {
   "cell_type": "markdown",
   "id": "349941b6",
   "metadata": {},
   "source": [
    "#### Series  : s a one-dimensional labelled array capable of holding data of any type (integer, string, float, python objects, etc.). The axis labels are collectively called indexes. \n",
    " \n",
    " \n",
    " Pandas Series is nothing but a column in an excel sheet"
   ]
  },
  {
   "cell_type": "markdown",
   "id": "57e02f43",
   "metadata": {},
   "source": [
    "###### Creating a Series\n",
    "\n",
    "In the real world, a Pandas Series will be created by loading the datasets from existing storage, storage can be SQL Database, CSV file, an Excel file. \n",
    "\n",
    "Pandas Series can be created from \n",
    "\n",
    "the lists, \n",
    "\n",
    "dictionary, and \n",
    "\n",
    "from a scalar value etc."
   ]
  },
  {
   "cell_type": "code",
   "execution_count": 1,
   "id": "ae7df2f2",
   "metadata": {},
   "outputs": [
    {
     "name": "stdout",
     "output_type": "stream",
     "text": [
      "empty series :    Series([], dtype: float64) \n",
      "\n",
      "series 1 : \n",
      " 0    g\n",
      "1    e\n",
      "2    e\n",
      "3    k\n",
      "4    s\n",
      "dtype: object\n",
      "series 2  : \n",
      " 0    1\n",
      "1    2\n",
      "2    3\n",
      "3    4\n",
      "4    5\n",
      "5    6\n",
      "6    7\n",
      "7    8\n",
      "8    9\n",
      "dtype: int64\n",
      "series 3  : \n",
      " 0    5\n",
      "1    6\n",
      "2    7\n",
      "dtype: int32\n",
      "series 4  : \n",
      " a    1\n",
      "b    2\n",
      "c    3\n",
      "d    4\n",
      "dtype: int64\n"
     ]
    },
    {
     "name": "stderr",
     "output_type": "stream",
     "text": [
      "C:\\Users\\acer\\AppData\\Local\\Temp/ipykernel_2668/3453695660.py:3: DeprecationWarning: The default dtype for empty Series will be 'object' instead of 'float64' in a future version. Specify a dtype explicitly to silence this warning.\n",
      "  ser = pd.Series()     ## Creating empty series\n"
     ]
    }
   ],
   "source": [
    "import pandas as pd\n",
    "import numpy as np\n",
    "ser = pd.Series()     ## Creating empty series\n",
    "print(\"empty series :   \",ser,\"\\n\")\n",
    "data = np.array(['g', 'e', 'e', 'k', 's'])   \n",
    "ser1 = pd.Series(data)                      # creating series from array\n",
    "print(\"series 1 : \\n\", ser1)\n",
    "ser2 = pd.Series(list(range(1,10)))        #creating series from list\n",
    "print(\"series 2  : \\n\", ser2)\n",
    "ser3=pd.Series(np.array([5,6,7]))\n",
    "print(\"series 3  : \\n\",ser3)\n",
    "ser4=pd.Series(list(range(1,5)),index=[\"a\",\"b\",\"c\",\"d\"])  # setting index\n",
    "print(\"series 4  : \\n\",ser4)\n"
   ]
  },
  {
   "cell_type": "code",
   "execution_count": 2,
   "id": "56dbf8f2",
   "metadata": {},
   "outputs": [
    {
     "name": "stdout",
     "output_type": "stream",
     "text": [
      "series 5  : \n",
      " a    10\n",
      "b    20\n",
      "c    30\n",
      "dtype: int64\n",
      "series 6  : \n",
      " x   NaN\n",
      "y   NaN\n",
      "z   NaN\n",
      "dtype: float64\n",
      "resetting the index\n",
      " a    10\n",
      "b    20\n",
      "c    30\n",
      "dtype: int64\n"
     ]
    }
   ],
   "source": [
    "# creating series from dictionary\n",
    "d = {\"a\": 10, \"b\": 20, \"c\": 30}\n",
    "ser5 = pd.Series(data=d) \n",
    "print(\"series 5  : \\n\",ser5)   # creating series from dictionary by default keys are treated as index values\n",
    "ser6 = pd.Series(data=d, index=['x', 'y', 'z'])\n",
    "print(\"series 6  : \\n\",ser6)      # gives null values as there is mismatch between indexex of keys and the one which we are providing \n",
    "ser5.reset_index()                # resetting the index in case of dictionary it will take defualt index as its keys\n",
    "print(\"resetting the index\\n\",ser5)"
   ]
  },
  {
   "cell_type": "code",
   "execution_count": 3,
   "id": "a5f91ea1",
   "metadata": {},
   "outputs": [
    {
     "name": "stdout",
     "output_type": "stream",
     "text": [
      "0    4\n",
      "1    4\n",
      "2    4\n",
      "3    4\n",
      "dtype: int64\n"
     ]
    }
   ],
   "source": [
    "##Create a Series using Scalar:\n",
    "\n",
    "##If we take the scalar values, then the index must be provided. The scalar value will be repeated for matching the length of the index.\n",
    "\n",
    "#import pandas library   \n",
    "import pandas as pd  \n",
    "import numpy as np  \n",
    "x = pd.Series(4, index=[0, 1, 2, 3])  \n",
    "print (x)  "
   ]
  },
  {
   "cell_type": "markdown",
   "id": "3bc0e205",
   "metadata": {},
   "source": [
    "###### Accessing data from series with indexes\n",
    "\n",
    "  "
   ]
  },
  {
   "cell_type": "code",
   "execution_count": 4,
   "id": "ae0fdaf9",
   "metadata": {},
   "outputs": [
    {
     "name": "stdout",
     "output_type": "stream",
     "text": [
      "1\n"
     ]
    }
   ],
   "source": [
    "import pandas as pd  \n",
    "x = pd.Series([1,2,3],index = ['a','b','c'])  \n",
    "#retrieve the first element  \n",
    "print (x[\"a\"])"
   ]
  },
  {
   "cell_type": "markdown",
   "id": "c34e2983",
   "metadata": {},
   "source": [
    "##### series function :\n",
    "\n",
    "\n",
    "Pandas Series.map()\tMap the values from two series that have a common column.\n",
    "\n",
    "\n",
    "Pandas Series.std()\tCalculate the standard deviation of the given set of numbers, DataFrame, column, and rows.\n",
    "\n",
    "\n",
    "Pandas Series.to_frame()\tConvert the series object to the dataframe.\n",
    "\n",
    "\n",
    "Pandas Series.value_counts()\tReturns a Series that contain counts of unique values.  (counts frequency excludes nan)\n",
    "\n",
    "\n"
   ]
  },
  {
   "cell_type": "code",
   "execution_count": 5,
   "id": "25a62b88",
   "metadata": {},
   "outputs": [
    {
     "name": "stdout",
     "output_type": "stream",
     "text": [
      "0    a\n",
      "1    b\n",
      "2    c\n",
      "dtype: object\n",
      "object\n",
      "   0\n",
      "0  a\n",
      "1  b\n",
      "2  c\n"
     ]
    },
    {
     "data": {
      "text/plain": [
       "0    object\n",
       "dtype: object"
      ]
     },
     "execution_count": 5,
     "metadata": {},
     "output_type": "execute_result"
    }
   ],
   "source": [
    "### converting series to dataframe \n",
    "s = pd.Series([\"a\", \"b\", \"c\"])\n",
    "print(s)\n",
    "print(s.dtype)\n",
    "df=s.to_frame() \n",
    "print(df)\n",
    "df.dtypes"
   ]
  },
  {
   "cell_type": "code",
   "execution_count": 6,
   "id": "a18ec0d8",
   "metadata": {},
   "outputs": [
    {
     "data": {
      "text/plain": [
       "1.0    2\n",
       "2.0    1\n",
       "3.0    1\n",
       "dtype: int64"
      ]
     },
     "execution_count": 6,
     "metadata": {},
     "output_type": "execute_result"
    }
   ],
   "source": [
    "## counts the frequency using : series.value_counts()   \n",
    "import pandas as pd  \n",
    "import numpy as np  \n",
    "a = pd.Series([2, 1, 1, np.nan, 3])  \n",
    "a.value_counts()  "
   ]
  },
  {
   "cell_type": "markdown",
   "id": "986c744c",
   "metadata": {},
   "source": [
    "##### Series object attributes\n",
    "\n",
    "Attributes\tDescription\n",
    "\n",
    "\n",
    "Series.index\tDefines the index of the Series.\n",
    "\n",
    "Series.shape\tIt returns a tuple of shape of the data.\n",
    "\n",
    "Series.dtype\tIt returns the data type of the data.\n",
    "\n",
    "Series.size\t    It returns the size of the data.\n",
    "\n",
    "Series.empty\tIt returns True if Series object is empty, otherwise returns false.\n",
    "\n",
    "Series.hasnans\tIt returns True if there are any NaN values, otherwise returns false.\n",
    "\n",
    "Series.nbytes\tIt returns the number of bytes in the data.\n",
    "\n",
    "Series.ndim\tIt returns the number of dimensions in the data.\n",
    "\n",
    "Series.itemsize\tIt returns the size of the datatype of item.\n"
   ]
  },
  {
   "cell_type": "markdown",
   "id": "faee9b9a",
   "metadata": {},
   "source": [
    "##### Data Frame :\n",
    "It is a two-dimensional size-mutable, potentially heterogeneous tabular data structure with labeled axes (rows and columns). \n",
    "\n",
    "A Data frame is a two-dimensional data structure, i.e., data is aligned in a tabular fashion in rows and columns. Pandas \n",
    "\n",
    "\n",
    "\n",
    "DataFrame consists of three principal components, the data, rows, and columns."
   ]
  },
  {
   "cell_type": "markdown",
   "id": "d92ccfc7",
   "metadata": {},
   "source": [
    "###### The main difference between Series and Data Frame is that Series can only contain a single list with a particular index, whereas the DataFrame is a combination of more than one series that can analyze the data."
   ]
  },
  {
   "cell_type": "markdown",
   "id": "33009c70",
   "metadata": {},
   "source": [
    "##### different ways of creating DataFrame :\n",
    "\n",
    "1 :by loading the datasets from existing storage, storage can be SQL Database, CSV file, an Excel file. \n",
    "from python dictionaries\n",
    "\n",
    "2.from python dictionaries\n",
    "\n",
    "3.from python list\n",
    "\n",
    "4.from python array\n",
    "\n",
    "5.from list of dictionaries\n"
   ]
  },
  {
   "cell_type": "code",
   "execution_count": 7,
   "id": "c3f0dde4",
   "metadata": {},
   "outputs": [
    {
     "name": "stdout",
     "output_type": "stream",
     "text": [
      "the data frame is \n",
      "     a   b   c   d message\n",
      "0  1   2   3   4   hello\n",
      "1  5   6   7   8   world\n",
      "2  9  10  11  12     foo\n",
      "the shape is rows*columns (3, 5)\n"
     ]
    }
   ],
   "source": [
    "# 1 by loading csv files \n",
    "import pandas as pd\n",
    "df=pd.read_csv(\"D:\\\\python_datascience\\\\data sets\\\\examples\\\\ex1.csv\")\n",
    "print(\"the data frame is \\n \",df)\n",
    "print(\"the shape is rows*columns\",df.shape)        # df.shape gives rows*columns of data frame"
   ]
  },
  {
   "cell_type": "code",
   "execution_count": 8,
   "id": "620cddb9",
   "metadata": {},
   "outputs": [
    {
     "data": {
      "text/html": [
       "<div>\n",
       "<style scoped>\n",
       "    .dataframe tbody tr th:only-of-type {\n",
       "        vertical-align: middle;\n",
       "    }\n",
       "\n",
       "    .dataframe tbody tr th {\n",
       "        vertical-align: top;\n",
       "    }\n",
       "\n",
       "    .dataframe thead th {\n",
       "        text-align: right;\n",
       "    }\n",
       "</style>\n",
       "<table border=\"1\" class=\"dataframe\">\n",
       "  <thead>\n",
       "    <tr style=\"text-align: right;\">\n",
       "      <th></th>\n",
       "      <th>country</th>\n",
       "      <th>GDP</th>\n",
       "    </tr>\n",
       "  </thead>\n",
       "  <tbody>\n",
       "    <tr>\n",
       "      <th>0</th>\n",
       "      <td>india</td>\n",
       "      <td>123</td>\n",
       "    </tr>\n",
       "    <tr>\n",
       "      <th>1</th>\n",
       "      <td>uk</td>\n",
       "      <td>345</td>\n",
       "    </tr>\n",
       "    <tr>\n",
       "      <th>2</th>\n",
       "      <td>austria</td>\n",
       "      <td>678</td>\n",
       "    </tr>\n",
       "    <tr>\n",
       "      <th>3</th>\n",
       "      <td>us</td>\n",
       "      <td>2134</td>\n",
       "    </tr>\n",
       "  </tbody>\n",
       "</table>\n",
       "</div>"
      ],
      "text/plain": [
       "   country   GDP\n",
       "0    india   123\n",
       "1       uk   345\n",
       "2  austria   678\n",
       "3       us  2134"
      ]
     },
     "execution_count": 8,
     "metadata": {},
     "output_type": "execute_result"
    }
   ],
   "source": [
    "# 2 from dictionary\n",
    "import pandas as pd\n",
    "data={\"country\":[\"india\",\"uk\",\"austria\",\"us\"],\"GDP\":[123,345,678,2134]}  # from dictionary \n",
    "df=pd.DataFrame(data)   # by default indexing starts from 0 and keys are the names of the columns\n",
    "df\n"
   ]
  },
  {
   "cell_type": "code",
   "execution_count": 9,
   "id": "c9ad7de3",
   "metadata": {},
   "outputs": [
    {
     "name": "stdout",
     "output_type": "stream",
     "text": [
      "from single list :\n",
      "    0\n",
      "0  1\n",
      "1  2\n",
      "2  3\n",
      "3  4\n",
      "from nested list :\n",
      "     0   1  2  3\n",
      "0   1   2  3  4\n",
      "1  23  56  7  8\n"
     ]
    }
   ],
   "source": [
    "# 3. from list\n",
    "import pandas as pd\n",
    "l1=[1,2,3,4]\n",
    "df=pd.DataFrame(l1)\n",
    "print(\"from single list :\\n\",df)   # by default indexing starts from 0 and column name starts from 0\n",
    "l2=[[1,2,3,4],[23,56,7,8]]\n",
    "df1=pd.DataFrame(l2)\n",
    "print(\"from nested list :\\n\",df1)"
   ]
  },
  {
   "cell_type": "code",
   "execution_count": 10,
   "id": "340c3a10",
   "metadata": {},
   "outputs": [
    {
     "name": "stdout",
     "output_type": "stream",
     "text": [
      "   a  b  c\n",
      "0  1  2  3\n",
      "1  4  5  6\n",
      "2  7  8  9\n"
     ]
    }
   ],
   "source": [
    "# 4. from python array\n",
    "import numpy as np\n",
    "import pandas as pd \n",
    "df2 = pd.DataFrame(np.array([[1, 2, 3], [4, 5, 6], [7, 8, 9]]),columns=['a', 'b', 'c'])\n",
    "print(df2)"
   ]
  },
  {
   "cell_type": "code",
   "execution_count": 12,
   "id": "c96c6d04",
   "metadata": {},
   "outputs": [
    {
     "name": "stdout",
     "output_type": "stream",
     "text": [
      "   country   GDP\n",
      "0    india   123\n",
      "1       uk   123\n",
      "2  austria   678\n",
      "3       us  2134\n",
      "unique elements are\n",
      " [ 123  678 2134]\n"
     ]
    }
   ],
   "source": [
    "## remove duplicacy of the  numbers \n",
    "import pandas as pd\n",
    "data={\"country\":[\"india\",\"uk\",\"austria\",\"us\"],\"GDP\":[123,123,678,2134]}  # from dictionary \n",
    "df=pd.DataFrame(data)   # by default indexing starts from 0 and keys are the names of the columns\n",
    "print(df)\n",
    "df1=df[\"GDP\"].unique()   # remove duplicacy\n",
    "print(\"unique elements are\\n\",df1)\n"
   ]
  },
  {
   "cell_type": "markdown",
   "id": "29fd9c84",
   "metadata": {},
   "source": [
    "##### Dealing with rows :\n",
    "\n",
    " basic operations on rows like \n",
    " \n",
    " selecting, \n",
    " \n",
    " deleting, \n",
    " \n",
    " adding \n",
    " \n",
    " renaming.\n",
    " "
   ]
  },
  {
   "cell_type": "markdown",
   "id": "464fac57",
   "metadata": {},
   "source": [
    "  ###### Row Selection:\n",
    "Pandas provide a unique method to retrieve rows from a Data frame.DataFrame.loc[] method is used to retrieve rows from Pandas DataFrame. Rows can also be selected by passing integer location to an iloc[] function. indexing,slicing,loc.iloc\n",
    "\n",
    "\n",
    "###### loc : loc() is label based data selecting method which means that we have to pass the name of the row or column which we want to select. \n",
    "\n",
    "This method includes the last element of the range passed in it\n",
    "\n",
    "\n",
    "###### iloc:  iloc() is a indexed based selecting method which means that we have to pass integer index in the method to select specific row/column. \n",
    "\n",
    "selecting particular number of rows and columns : df.iloc: [[2,4],[7,9]] or [:[3,4,6] ]\n",
    "\n",
    "This method does not include the last element of the range passed "
   ]
  },
  {
   "cell_type": "markdown",
   "id": "ea27998a",
   "metadata": {},
   "source": [
    "##### viewing Top rows : head()"
   ]
  },
  {
   "cell_type": "markdown",
   "id": "e62ce5dc",
   "metadata": {},
   "source": [
    "#### head() method is used to return top n (5 by default) rows of a data frame or series.\n",
    "\n",
    "Syntax: Dataframe.head(n=5)\n",
    "\n",
    "Parameters:\n",
    "n: integer value, number of rows to be returned\n",
    "\n",
    "Return type: Dataframe with top n rows"
   ]
  },
  {
   "cell_type": "code",
   "execution_count": 13,
   "id": "dde38ecd",
   "metadata": {},
   "outputs": [
    {
     "name": "stdout",
     "output_type": "stream",
     "text": [
      "     key2  value1  value2\n",
      "key1                     \n",
      "one     a       1       2\n",
      "one     b       3       4\n",
      "one     c       5       6\n",
      "one     d       7       8\n",
      "two     a       9      10\n",
      "two     b      11      12\n",
      "two     c      13      14\n",
      "two     d      15      16 \n",
      "\n",
      "top 5 rows\n",
      "      key2  value1  value2\n",
      "key1                     \n",
      "one     a       1       2\n",
      "one     b       3       4\n",
      "one     c       5       6\n",
      "one     d       7       8\n",
      "two     a       9      10\n"
     ]
    },
    {
     "data": {
      "text/html": [
       "<div>\n",
       "<style scoped>\n",
       "    .dataframe tbody tr th:only-of-type {\n",
       "        vertical-align: middle;\n",
       "    }\n",
       "\n",
       "    .dataframe tbody tr th {\n",
       "        vertical-align: top;\n",
       "    }\n",
       "\n",
       "    .dataframe thead th {\n",
       "        text-align: right;\n",
       "    }\n",
       "</style>\n",
       "<table border=\"1\" class=\"dataframe\">\n",
       "  <thead>\n",
       "    <tr style=\"text-align: right;\">\n",
       "      <th></th>\n",
       "      <th>key2</th>\n",
       "      <th>value1</th>\n",
       "      <th>value2</th>\n",
       "    </tr>\n",
       "    <tr>\n",
       "      <th>key1</th>\n",
       "      <th></th>\n",
       "      <th></th>\n",
       "      <th></th>\n",
       "    </tr>\n",
       "  </thead>\n",
       "  <tbody>\n",
       "    <tr>\n",
       "      <th>one</th>\n",
       "      <td>d</td>\n",
       "      <td>7</td>\n",
       "      <td>8</td>\n",
       "    </tr>\n",
       "    <tr>\n",
       "      <th>two</th>\n",
       "      <td>a</td>\n",
       "      <td>9</td>\n",
       "      <td>10</td>\n",
       "    </tr>\n",
       "    <tr>\n",
       "      <th>two</th>\n",
       "      <td>b</td>\n",
       "      <td>11</td>\n",
       "      <td>12</td>\n",
       "    </tr>\n",
       "    <tr>\n",
       "      <th>two</th>\n",
       "      <td>c</td>\n",
       "      <td>13</td>\n",
       "      <td>14</td>\n",
       "    </tr>\n",
       "    <tr>\n",
       "      <th>two</th>\n",
       "      <td>d</td>\n",
       "      <td>15</td>\n",
       "      <td>16</td>\n",
       "    </tr>\n",
       "  </tbody>\n",
       "</table>\n",
       "</div>"
      ],
      "text/plain": [
       "     key2  value1  value2\n",
       "key1                     \n",
       "one     d       7       8\n",
       "two     a       9      10\n",
       "two     b      11      12\n",
       "two     c      13      14\n",
       "two     d      15      16"
      ]
     },
     "execution_count": 13,
     "metadata": {},
     "output_type": "execute_result"
    }
   ],
   "source": [
    "import pandas as pd\n",
    "df=pd.read_csv(\"D:\\\\python_datascience\\\\data sets\\\\examples\\\\csv_mindex.csv\")\n",
    "df1=pd.read_csv(\"D:\\\\python_datascience\\\\data sets\\\\examples\\\\csv_mindex.csv\",index_col=[\"key1\"])  # creating key1 as index \n",
    "print(df1,\"\\n\")\n",
    "df2=df1.head()\n",
    "print(\"top 5 rows\\n\",df2)\n",
    "df1.tail()\n",
    "#print(\"last 5 rows\\n\",df3)    Problem"
   ]
  },
  {
   "cell_type": "markdown",
   "id": "0d97f6b2",
   "metadata": {},
   "source": [
    "### to fetch specific data from data frame : slicing\n"
   ]
  },
  {
   "cell_type": "code",
   "execution_count": 14,
   "id": "634a9b03",
   "metadata": {},
   "outputs": [
    {
     "name": "stdout",
     "output_type": "stream",
     "text": [
      "     key2  value1  value2\n",
      "key1                     \n",
      "one     a       1       2\n",
      "one     b       3       4\n",
      "one     c       5       6\n",
      "one     d       7       8\n",
      "two     a       9      10\n",
      "two     b      11      12\n",
      "two     c      13      14\n",
      "two     d      15      16 \n",
      "\n",
      "     key2  value1  value2\n",
      "key1                     \n",
      "one     c       5       6\n",
      "one     d       7       8\n",
      "two     a       9      10\n",
      "two     b      11      12\n"
     ]
    },
    {
     "data": {
      "text/html": [
       "<div>\n",
       "<style scoped>\n",
       "    .dataframe tbody tr th:only-of-type {\n",
       "        vertical-align: middle;\n",
       "    }\n",
       "\n",
       "    .dataframe tbody tr th {\n",
       "        vertical-align: top;\n",
       "    }\n",
       "\n",
       "    .dataframe thead th {\n",
       "        text-align: right;\n",
       "    }\n",
       "</style>\n",
       "<table border=\"1\" class=\"dataframe\">\n",
       "  <thead>\n",
       "    <tr style=\"text-align: right;\">\n",
       "      <th></th>\n",
       "      <th>key2</th>\n",
       "      <th>value1</th>\n",
       "      <th>value2</th>\n",
       "    </tr>\n",
       "    <tr>\n",
       "      <th>key1</th>\n",
       "      <th></th>\n",
       "      <th></th>\n",
       "      <th></th>\n",
       "    </tr>\n",
       "  </thead>\n",
       "  <tbody>\n",
       "    <tr>\n",
       "      <th>one</th>\n",
       "      <td>d</td>\n",
       "      <td>7</td>\n",
       "      <td>8</td>\n",
       "    </tr>\n",
       "    <tr>\n",
       "      <th>two</th>\n",
       "      <td>a</td>\n",
       "      <td>9</td>\n",
       "      <td>10</td>\n",
       "    </tr>\n",
       "    <tr>\n",
       "      <th>two</th>\n",
       "      <td>b</td>\n",
       "      <td>11</td>\n",
       "      <td>12</td>\n",
       "    </tr>\n",
       "    <tr>\n",
       "      <th>two</th>\n",
       "      <td>c</td>\n",
       "      <td>13</td>\n",
       "      <td>14</td>\n",
       "    </tr>\n",
       "    <tr>\n",
       "      <th>two</th>\n",
       "      <td>d</td>\n",
       "      <td>15</td>\n",
       "      <td>16</td>\n",
       "    </tr>\n",
       "  </tbody>\n",
       "</table>\n",
       "</div>"
      ],
      "text/plain": [
       "     key2  value1  value2\n",
       "key1                     \n",
       "one     d       7       8\n",
       "two     a       9      10\n",
       "two     b      11      12\n",
       "two     c      13      14\n",
       "two     d      15      16"
      ]
     },
     "execution_count": 14,
     "metadata": {},
     "output_type": "execute_result"
    }
   ],
   "source": [
    "import pandas as pd\n",
    "df=pd.read_csv(\"D:\\\\python_datascience\\\\data sets\\\\examples\\\\csv_mindex.csv\")\n",
    "df1=pd.read_csv(\"D:\\\\python_datascience\\\\data sets\\\\examples\\\\csv_mindex.csv\",index_col=[\"key1\"])  # creating key1 as index \n",
    "print(df1,\"\\n\")\n",
    "print(df1[2:6])   # fetching rows from 2 to 5 \n",
    "df1[3:]              # from row 3rd to last "
   ]
  },
  {
   "cell_type": "markdown",
   "id": "70475c24",
   "metadata": {},
   "source": [
    "#####  fetching data from loc or iloc method"
   ]
  },
  {
   "cell_type": "code",
   "execution_count": 15,
   "id": "296127c7",
   "metadata": {},
   "outputs": [
    {
     "name": "stdout",
     "output_type": "stream",
     "text": [
      "original df :\n",
      "    country   GDP\n",
      "0    india   123\n",
      "1       uk   345\n",
      "2  austria   678\n",
      "3       us  2134\n",
      "slecting rows 1st to 3rd:    country   GDP\n",
      "1       uk   345\n",
      "2  austria   678\n",
      "3       us  2134 \n",
      "\n",
      "setting country name as indexing\n",
      "     country   GDP\n",
      "a    india   123\n",
      "b       uk   345\n",
      "c  austria   678\n",
      "d       us  2134\n",
      "slecting rows based on country indexing\n",
      "    country   GDP\n",
      "c  austria   678\n",
      "d       us  2134\n"
     ]
    }
   ],
   "source": [
    "import pandas as pd\n",
    "data={\"country\":[\"india\",\"uk\",\"austria\",\"us\"],\"GDP\":[123,345,678,2134]}  # from dictionary \n",
    "df=pd.DataFrame(data)\n",
    "print(\"original df :\\n\",df)\n",
    "print(\"slecting rows 1st to 3rd:\",df.iloc[1:4],\"\\n\")\n",
    "df=pd.DataFrame(data,index=[\"a\",\"b\",\"c\",\"d\"])   # by default indexing starts from 0 and keys are the names of the columns\n",
    "print(\"setting country name as indexing\\n \",df)\n",
    "df1=df.loc[\"c\":\"d\"]\n",
    "print(\"slecting rows based on country indexing\\n\",df1)"
   ]
  },
  {
   "cell_type": "code",
   "execution_count": 16,
   "id": "fb8cc673",
   "metadata": {},
   "outputs": [
    {
     "name": "stdout",
     "output_type": "stream",
     "text": [
      "original df :\n",
      "    country   GDP\n",
      "0    india   123\n",
      "1       uk   345\n",
      "2  austria   678\n",
      "3       us  2134\n"
     ]
    },
    {
     "data": {
      "text/html": [
       "<div>\n",
       "<style scoped>\n",
       "    .dataframe tbody tr th:only-of-type {\n",
       "        vertical-align: middle;\n",
       "    }\n",
       "\n",
       "    .dataframe tbody tr th {\n",
       "        vertical-align: top;\n",
       "    }\n",
       "\n",
       "    .dataframe thead th {\n",
       "        text-align: right;\n",
       "    }\n",
       "</style>\n",
       "<table border=\"1\" class=\"dataframe\">\n",
       "  <thead>\n",
       "    <tr style=\"text-align: right;\">\n",
       "      <th></th>\n",
       "      <th>GDP</th>\n",
       "    </tr>\n",
       "  </thead>\n",
       "  <tbody>\n",
       "    <tr>\n",
       "      <th>1</th>\n",
       "      <td>345</td>\n",
       "    </tr>\n",
       "    <tr>\n",
       "      <th>3</th>\n",
       "      <td>2134</td>\n",
       "    </tr>\n",
       "  </tbody>\n",
       "</table>\n",
       "</div>"
      ],
      "text/plain": [
       "    GDP\n",
       "1   345\n",
       "3  2134"
      ]
     },
     "execution_count": 16,
     "metadata": {},
     "output_type": "execute_result"
    }
   ],
   "source": [
    "import pandas as pd\n",
    "data={\"country\":[\"india\",\"uk\",\"austria\",\"us\"],\"GDP\":[123,345,678,2134]}  # from dictionary \n",
    "df=pd.DataFrame(data)\n",
    "print(\"original df :\\n\",df)\n",
    "df.iloc[[1,3],[1]]"
   ]
  },
  {
   "cell_type": "markdown",
   "id": "4876ac13",
   "metadata": {},
   "source": [
    "#### addition of new rows \n",
    "\n",
    "\n",
    "\n",
    " adding new rows to the DataFrame using append function. It adds the new rows at the end\n",
    " \n",
    " \n",
    " #####  various method::\n",
    "append()\n",
    "\n",
    "concat()\n",
    "\n",
    "iloc[]\n",
    "\n",
    "loc[]\n",
    "\n"
   ]
  },
  {
   "cell_type": "markdown",
   "id": "319dca56",
   "metadata": {},
   "source": [
    "## using append()  - add the rows of one data frame to the target dataframe at the end\n",
    "Parameters\n",
    "\n",
    "dictionary or Pandas Series or Dataframe – Object with values for new row\n",
    "\n",
    "\n",
    "ignore_index = True Means the index from the series or the source dataframe will be ignored. The index available in the target dataframe will be used, instead. False means otherwise. This is optional. Returns\n",
    "\n",
    "\n",
    "A resultant dataframe which has the rows from the target dataframe and a new row appended."
   ]
  },
  {
   "cell_type": "code",
   "execution_count": 17,
   "id": "1032229a",
   "metadata": {},
   "outputs": [
    {
     "name": "stdout",
     "output_type": "stream",
     "text": [
      "     x     y     0\n",
      "0  7.0   8.0   NaN\n",
      "1  9.0  10.0   NaN\n",
      "0  NaN   NaN  11.0\n",
      "1  NaN   NaN  12.0\n"
     ]
    }
   ],
   "source": [
    " \n",
    "import pandas as pd  \n",
    "d = pd.DataFrame([[7, 8], [9, 10]], columns = ['x','y'])  \n",
    "d2 = pd.DataFrame([11, 12])  \n",
    "d = d.append(d2)  \n",
    "print (d)  "
   ]
  },
  {
   "cell_type": "code",
   "execution_count": 18,
   "id": "6cbec3ac",
   "metadata": {},
   "outputs": [
    {
     "name": "stdout",
     "output_type": "stream",
     "text": [
      "     x     y     0     1\n",
      "0  7.0   8.0   NaN   NaN\n",
      "1  9.0  10.0   NaN   NaN\n",
      "0  NaN   NaN  11.0  12.0\n",
      "1  NaN   NaN   2.0   3.0\n"
     ]
    }
   ],
   "source": [
    "# importing the pandas library  \n",
    "import pandas as pd  \n",
    "d = pd.DataFrame([[7, 8], [9, 10]], columns = ['x','y'])  \n",
    "d2 = pd.DataFrame([[11, 12],[2,3]])  \n",
    "d = d.append(d2)  \n",
    "print (d)  "
   ]
  },
  {
   "cell_type": "code",
   "execution_count": 19,
   "id": "00327ebc",
   "metadata": {},
   "outputs": [
    {
     "name": "stdout",
     "output_type": "stream",
     "text": [
      "    x   y\n",
      "0   7   8\n",
      "1   9  10\n",
      "0  11  12\n",
      "1   2   3\n"
     ]
    }
   ],
   "source": [
    "# importing the pandas library  \n",
    "import pandas as pd  \n",
    "d = pd.DataFrame([[7, 8], [9, 10]], columns = ['x','y'])  \n",
    "d2 = pd.DataFrame([[11, 12],[2,3]],columns=[\"x\",\"y\"])  \n",
    "d = d.append(d2)  \n",
    "print (d)  "
   ]
  },
  {
   "cell_type": "code",
   "execution_count": 20,
   "id": "1f7407f8",
   "metadata": {},
   "outputs": [
    {
     "name": "stdout",
     "output_type": "stream",
     "text": [
      "    x   y\n",
      "0  11  12\n",
      "1   2   3\n",
      "2   7   8\n",
      "3   9  10\n"
     ]
    }
   ],
   "source": [
    "# importing the pandas library  \n",
    "import pandas as pd  \n",
    "d = pd.DataFrame([[7, 8], [9, 10]], columns = ['x','y'],index=[\"a\",\"b\"])  \n",
    "d2 = pd.DataFrame([[11, 12],[2,3]],columns=[\"x\",\"y\"])  \n",
    "d1 = d2.append(d,ignore_index=True)  \n",
    "print (d1)"
   ]
  },
  {
   "cell_type": "code",
   "execution_count": 21,
   "id": "0e701052",
   "metadata": {},
   "outputs": [
    {
     "data": {
      "text/html": [
       "<div>\n",
       "<style scoped>\n",
       "    .dataframe tbody tr th:only-of-type {\n",
       "        vertical-align: middle;\n",
       "    }\n",
       "\n",
       "    .dataframe tbody tr th {\n",
       "        vertical-align: top;\n",
       "    }\n",
       "\n",
       "    .dataframe thead th {\n",
       "        text-align: right;\n",
       "    }\n",
       "</style>\n",
       "<table border=\"1\" class=\"dataframe\">\n",
       "  <thead>\n",
       "    <tr style=\"text-align: right;\">\n",
       "      <th></th>\n",
       "      <th>Name</th>\n",
       "      <th>Maths</th>\n",
       "      <th>Science</th>\n",
       "    </tr>\n",
       "  </thead>\n",
       "  <tbody>\n",
       "    <tr>\n",
       "      <th>x</th>\n",
       "      <td>Martha</td>\n",
       "      <td>87</td>\n",
       "      <td>83</td>\n",
       "    </tr>\n",
       "    <tr>\n",
       "      <th>y</th>\n",
       "      <td>Tim</td>\n",
       "      <td>91</td>\n",
       "      <td>99</td>\n",
       "    </tr>\n",
       "    <tr>\n",
       "      <th>z</th>\n",
       "      <td>Rob</td>\n",
       "      <td>97</td>\n",
       "      <td>84</td>\n",
       "    </tr>\n",
       "    <tr>\n",
       "      <th>a</th>\n",
       "      <td>Georgia</td>\n",
       "      <td>95</td>\n",
       "      <td>76</td>\n",
       "    </tr>\n",
       "  </tbody>\n",
       "</table>\n",
       "</div>"
      ],
      "text/plain": [
       "      Name  Maths  Science\n",
       "x   Martha     87       83\n",
       "y      Tim     91       99\n",
       "z      Rob     97       84\n",
       "a  Georgia     95       76"
      ]
     },
     "metadata": {},
     "output_type": "display_data"
    },
    {
     "data": {
      "text/html": [
       "<div>\n",
       "<style scoped>\n",
       "    .dataframe tbody tr th:only-of-type {\n",
       "        vertical-align: middle;\n",
       "    }\n",
       "\n",
       "    .dataframe tbody tr th {\n",
       "        vertical-align: top;\n",
       "    }\n",
       "\n",
       "    .dataframe thead th {\n",
       "        text-align: right;\n",
       "    }\n",
       "</style>\n",
       "<table border=\"1\" class=\"dataframe\">\n",
       "  <thead>\n",
       "    <tr style=\"text-align: right;\">\n",
       "      <th></th>\n",
       "      <th>Name</th>\n",
       "      <th>Maths</th>\n",
       "      <th>Science</th>\n",
       "    </tr>\n",
       "  </thead>\n",
       "  <tbody>\n",
       "    <tr>\n",
       "      <th>0</th>\n",
       "      <td>Martha</td>\n",
       "      <td>87</td>\n",
       "      <td>83</td>\n",
       "    </tr>\n",
       "    <tr>\n",
       "      <th>1</th>\n",
       "      <td>Tim</td>\n",
       "      <td>91</td>\n",
       "      <td>99</td>\n",
       "    </tr>\n",
       "    <tr>\n",
       "      <th>2</th>\n",
       "      <td>Rob</td>\n",
       "      <td>97</td>\n",
       "      <td>84</td>\n",
       "    </tr>\n",
       "    <tr>\n",
       "      <th>3</th>\n",
       "      <td>Georgia</td>\n",
       "      <td>95</td>\n",
       "      <td>76</td>\n",
       "    </tr>\n",
       "    <tr>\n",
       "      <th>4</th>\n",
       "      <td>Amy</td>\n",
       "      <td>89</td>\n",
       "      <td>93</td>\n",
       "    </tr>\n",
       "  </tbody>\n",
       "</table>\n",
       "</div>"
      ],
      "text/plain": [
       "      Name  Maths  Science\n",
       "0   Martha     87       83\n",
       "1      Tim     91       99\n",
       "2      Rob     97       84\n",
       "3  Georgia     95       76\n",
       "4      Amy     89       93"
      ]
     },
     "metadata": {},
     "output_type": "display_data"
    }
   ],
   "source": [
    "import pandas as pd\n",
    "import numpy as np\n",
    "  \n",
    "dict = {'Name':['Martha', 'Tim', 'Rob', 'Georgia'],\n",
    "        'Maths':[87, 91, 97, 95],\n",
    "        'Science':[83, 99, 84, 76]\n",
    "       }\n",
    "  \n",
    "df = pd.DataFrame(dict,index=[\"x\",\"y\",\"z\",\"a\"])\n",
    "  \n",
    "display(df)\n",
    "  \n",
    "df2 = {'Name': 'Amy', 'Maths': 89, 'Science': 93}\n",
    "df = df.append(df2, ignore_index = True)\n",
    "  \n",
    "display(df)"
   ]
  },
  {
   "cell_type": "markdown",
   "id": "fd5d9b9a",
   "metadata": {},
   "source": [
    "### using concat"
   ]
  },
  {
   "cell_type": "code",
   "execution_count": 22,
   "id": "d8853699",
   "metadata": {},
   "outputs": [
    {
     "name": "stdout",
     "output_type": "stream",
     "text": [
      "      Name  Maths  Science\n",
      "0   Martha     87       83\n",
      "1      Tim     91       99\n",
      "2      Rob     97       84\n",
      "3  Georgia     95       76\n",
      "  Name  Maths  Science\n",
      "0  Amy     89       93\n",
      "  Name  Maths  Science\n",
      "0  Abc     80       95\n"
     ]
    },
    {
     "data": {
      "text/html": [
       "<div>\n",
       "<style scoped>\n",
       "    .dataframe tbody tr th:only-of-type {\n",
       "        vertical-align: middle;\n",
       "    }\n",
       "\n",
       "    .dataframe tbody tr th {\n",
       "        vertical-align: top;\n",
       "    }\n",
       "\n",
       "    .dataframe thead th {\n",
       "        text-align: right;\n",
       "    }\n",
       "</style>\n",
       "<table border=\"1\" class=\"dataframe\">\n",
       "  <thead>\n",
       "    <tr style=\"text-align: right;\">\n",
       "      <th></th>\n",
       "      <th>Name</th>\n",
       "      <th>Maths</th>\n",
       "      <th>Science</th>\n",
       "    </tr>\n",
       "  </thead>\n",
       "  <tbody>\n",
       "    <tr>\n",
       "      <th>0</th>\n",
       "      <td>Martha</td>\n",
       "      <td>87</td>\n",
       "      <td>83</td>\n",
       "    </tr>\n",
       "    <tr>\n",
       "      <th>1</th>\n",
       "      <td>Tim</td>\n",
       "      <td>91</td>\n",
       "      <td>99</td>\n",
       "    </tr>\n",
       "    <tr>\n",
       "      <th>2</th>\n",
       "      <td>Rob</td>\n",
       "      <td>97</td>\n",
       "      <td>84</td>\n",
       "    </tr>\n",
       "    <tr>\n",
       "      <th>3</th>\n",
       "      <td>Georgia</td>\n",
       "      <td>95</td>\n",
       "      <td>76</td>\n",
       "    </tr>\n",
       "    <tr>\n",
       "      <th>4</th>\n",
       "      <td>Amy</td>\n",
       "      <td>89</td>\n",
       "      <td>93</td>\n",
       "    </tr>\n",
       "    <tr>\n",
       "      <th>5</th>\n",
       "      <td>Abc</td>\n",
       "      <td>80</td>\n",
       "      <td>95</td>\n",
       "    </tr>\n",
       "  </tbody>\n",
       "</table>\n",
       "</div>"
      ],
      "text/plain": [
       "      Name  Maths  Science\n",
       "0   Martha     87       83\n",
       "1      Tim     91       99\n",
       "2      Rob     97       84\n",
       "3  Georgia     95       76\n",
       "4      Amy     89       93\n",
       "5      Abc     80       95"
      ]
     },
     "execution_count": 22,
     "metadata": {},
     "output_type": "execute_result"
    }
   ],
   "source": [
    "import pandas as pd\n",
    "import numpy as np\n",
    "  \n",
    "d1 = {'Name':['Martha', 'Tim', 'Rob', 'Georgia'],\n",
    "        'Maths':[87, 91, 97, 95],\n",
    "        'Science':[83, 99, 84, 76]\n",
    "       }\n",
    "d2 = {'Name': 'Amy', 'Maths': 89, 'Science': 93}\n",
    "d3 = {'Name': 'Abc', 'Maths': 80, 'Science': 95}\n",
    "  \n",
    "df1 = pd.DataFrame(d1) \n",
    "print(df1)\n",
    "df2 = pd.DataFrame(d2,index=[0]) \n",
    "print(df2)\n",
    "df3 = pd.DataFrame(d3,index=[0])  \n",
    "print(df3)\n",
    "\n",
    "df = pd.concat([df1,df2,df3], ignore_index = True, axis = 0)  # adding the rows of df1+df2+df3\n",
    "df\n"
   ]
  },
  {
   "cell_type": "markdown",
   "id": "226d2498",
   "metadata": {},
   "source": [
    "##### Using ILOC\n",
    "You can use the iLoc[] attribute to add a row at a specific position in the dataframe. \n",
    "\n",
    "iloc is an integer-based indexing for selecting rows from the dataframe. You can also use it to assign new rows at that position.\n",
    "\n",
    "Adding a row at a specific index position will replace the existing row at that position."
   ]
  },
  {
   "cell_type": "code",
   "execution_count": 23,
   "id": "2ea2199d",
   "metadata": {},
   "outputs": [
    {
     "data": {
      "text/html": [
       "<div>\n",
       "<style scoped>\n",
       "    .dataframe tbody tr th:only-of-type {\n",
       "        vertical-align: middle;\n",
       "    }\n",
       "\n",
       "    .dataframe tbody tr th {\n",
       "        vertical-align: top;\n",
       "    }\n",
       "\n",
       "    .dataframe thead th {\n",
       "        text-align: right;\n",
       "    }\n",
       "</style>\n",
       "<table border=\"1\" class=\"dataframe\">\n",
       "  <thead>\n",
       "    <tr style=\"text-align: right;\">\n",
       "      <th></th>\n",
       "      <th>Name</th>\n",
       "      <th>Maths</th>\n",
       "      <th>Science</th>\n",
       "    </tr>\n",
       "  </thead>\n",
       "  <tbody>\n",
       "    <tr>\n",
       "      <th>0</th>\n",
       "      <td>Martha</td>\n",
       "      <td>87</td>\n",
       "      <td>83</td>\n",
       "    </tr>\n",
       "    <tr>\n",
       "      <th>1</th>\n",
       "      <td>Tim</td>\n",
       "      <td>91</td>\n",
       "      <td>99</td>\n",
       "    </tr>\n",
       "    <tr>\n",
       "      <th>2</th>\n",
       "      <td>Rob</td>\n",
       "      <td>97</td>\n",
       "      <td>84</td>\n",
       "    </tr>\n",
       "    <tr>\n",
       "      <th>3</th>\n",
       "      <td>Georgia</td>\n",
       "      <td>95</td>\n",
       "      <td>76</td>\n",
       "    </tr>\n",
       "    <tr>\n",
       "      <th>4</th>\n",
       "      <td>Amy</td>\n",
       "      <td>89</td>\n",
       "      <td>93</td>\n",
       "    </tr>\n",
       "    <tr>\n",
       "      <th>5</th>\n",
       "      <td>Abc</td>\n",
       "      <td>80</td>\n",
       "      <td>95</td>\n",
       "    </tr>\n",
       "  </tbody>\n",
       "</table>\n",
       "</div>"
      ],
      "text/plain": [
       "      Name  Maths  Science\n",
       "0   Martha     87       83\n",
       "1      Tim     91       99\n",
       "2      Rob     97       84\n",
       "3  Georgia     95       76\n",
       "4      Amy     89       93\n",
       "5      Abc     80       95"
      ]
     },
     "execution_count": 23,
     "metadata": {},
     "output_type": "execute_result"
    }
   ],
   "source": [
    "df"
   ]
  },
  {
   "cell_type": "code",
   "execution_count": 24,
   "id": "68276d66",
   "metadata": {},
   "outputs": [
    {
     "data": {
      "text/html": [
       "<div>\n",
       "<style scoped>\n",
       "    .dataframe tbody tr th:only-of-type {\n",
       "        vertical-align: middle;\n",
       "    }\n",
       "\n",
       "    .dataframe tbody tr th {\n",
       "        vertical-align: top;\n",
       "    }\n",
       "\n",
       "    .dataframe thead th {\n",
       "        text-align: right;\n",
       "    }\n",
       "</style>\n",
       "<table border=\"1\" class=\"dataframe\">\n",
       "  <thead>\n",
       "    <tr style=\"text-align: right;\">\n",
       "      <th></th>\n",
       "      <th>Name</th>\n",
       "      <th>Maths</th>\n",
       "      <th>Science</th>\n",
       "    </tr>\n",
       "  </thead>\n",
       "  <tbody>\n",
       "    <tr>\n",
       "      <th>0</th>\n",
       "      <td>Martha</td>\n",
       "      <td>87</td>\n",
       "      <td>83</td>\n",
       "    </tr>\n",
       "    <tr>\n",
       "      <th>1</th>\n",
       "      <td>Tim</td>\n",
       "      <td>91</td>\n",
       "      <td>99</td>\n",
       "    </tr>\n",
       "    <tr>\n",
       "      <th>2</th>\n",
       "      <td>Rob</td>\n",
       "      <td>97</td>\n",
       "      <td>84</td>\n",
       "    </tr>\n",
       "    <tr>\n",
       "      <th>3</th>\n",
       "      <td>balmeet</td>\n",
       "      <td>90</td>\n",
       "      <td>65</td>\n",
       "    </tr>\n",
       "    <tr>\n",
       "      <th>4</th>\n",
       "      <td>Amy</td>\n",
       "      <td>89</td>\n",
       "      <td>93</td>\n",
       "    </tr>\n",
       "    <tr>\n",
       "      <th>5</th>\n",
       "      <td>Abc</td>\n",
       "      <td>80</td>\n",
       "      <td>95</td>\n",
       "    </tr>\n",
       "  </tbody>\n",
       "</table>\n",
       "</div>"
      ],
      "text/plain": [
       "      Name  Maths  Science\n",
       "0   Martha     87       83\n",
       "1      Tim     91       99\n",
       "2      Rob     97       84\n",
       "3  balmeet     90       65\n",
       "4      Amy     89       93\n",
       "5      Abc     80       95"
      ]
     },
     "execution_count": 24,
     "metadata": {},
     "output_type": "execute_result"
    }
   ],
   "source": [
    "#adding row 1 at position 3\n",
    "df.iloc[3]=[\"balmeet\",90,65]   # the existing 3rd row has been replaced by new one\n",
    "df"
   ]
  },
  {
   "cell_type": "code",
   "execution_count": 25,
   "id": "1ceee94b",
   "metadata": {},
   "outputs": [
    {
     "name": "stdout",
     "output_type": "stream",
     "text": [
      "6\n"
     ]
    },
    {
     "ename": "IndexError",
     "evalue": "iloc cannot enlarge its target object",
     "output_type": "error",
     "traceback": [
      "\u001b[1;31m---------------------------------------------------------------------------\u001b[0m",
      "\u001b[1;31mIndexError\u001b[0m                                Traceback (most recent call last)",
      "\u001b[1;32m~\\AppData\\Local\\Temp/ipykernel_2668/1844642099.py\u001b[0m in \u001b[0;36m<module>\u001b[1;34m\u001b[0m\n\u001b[0;32m      2\u001b[0m \u001b[0mr\u001b[0m\u001b[1;33m=\u001b[0m\u001b[0mlen\u001b[0m\u001b[1;33m(\u001b[0m\u001b[0mdf\u001b[0m\u001b[1;33m.\u001b[0m\u001b[0mindex\u001b[0m\u001b[1;33m)\u001b[0m  \u001b[1;31m# gives new length of the rows\u001b[0m\u001b[1;33m\u001b[0m\u001b[1;33m\u001b[0m\u001b[0m\n\u001b[0;32m      3\u001b[0m \u001b[0mprint\u001b[0m\u001b[1;33m(\u001b[0m\u001b[0mr\u001b[0m\u001b[1;33m)\u001b[0m\u001b[1;33m\u001b[0m\u001b[1;33m\u001b[0m\u001b[0m\n\u001b[1;32m----> 4\u001b[1;33m \u001b[0mdf\u001b[0m\u001b[1;33m.\u001b[0m\u001b[0miloc\u001b[0m\u001b[1;33m[\u001b[0m\u001b[0mr\u001b[0m\u001b[1;33m]\u001b[0m\u001b[1;33m=\u001b[0m\u001b[1;33m[\u001b[0m\u001b[1;34m\"x\"\u001b[0m\u001b[1;33m,\u001b[0m\u001b[1;36m90\u001b[0m\u001b[1;33m,\u001b[0m\u001b[1;36m65\u001b[0m\u001b[1;33m]\u001b[0m   \u001b[1;31m# the existing 3rd row has been replaced by new one\u001b[0m\u001b[1;33m\u001b[0m\u001b[1;33m\u001b[0m\u001b[0m\n\u001b[0m\u001b[0;32m      5\u001b[0m \u001b[0mdf\u001b[0m\u001b[1;33m\u001b[0m\u001b[1;33m\u001b[0m\u001b[0m\n",
      "\u001b[1;32m~\\anaconda3\\lib\\site-packages\\pandas\\core\\indexing.py\u001b[0m in \u001b[0;36m__setitem__\u001b[1;34m(self, key, value)\u001b[0m\n\u001b[0;32m    718\u001b[0m             \u001b[0mkey\u001b[0m \u001b[1;33m=\u001b[0m \u001b[0mcom\u001b[0m\u001b[1;33m.\u001b[0m\u001b[0mapply_if_callable\u001b[0m\u001b[1;33m(\u001b[0m\u001b[0mkey\u001b[0m\u001b[1;33m,\u001b[0m \u001b[0mself\u001b[0m\u001b[1;33m.\u001b[0m\u001b[0mobj\u001b[0m\u001b[1;33m)\u001b[0m\u001b[1;33m\u001b[0m\u001b[1;33m\u001b[0m\u001b[0m\n\u001b[0;32m    719\u001b[0m         \u001b[0mindexer\u001b[0m \u001b[1;33m=\u001b[0m \u001b[0mself\u001b[0m\u001b[1;33m.\u001b[0m\u001b[0m_get_setitem_indexer\u001b[0m\u001b[1;33m(\u001b[0m\u001b[0mkey\u001b[0m\u001b[1;33m)\u001b[0m\u001b[1;33m\u001b[0m\u001b[1;33m\u001b[0m\u001b[0m\n\u001b[1;32m--> 720\u001b[1;33m         \u001b[0mself\u001b[0m\u001b[1;33m.\u001b[0m\u001b[0m_has_valid_setitem_indexer\u001b[0m\u001b[1;33m(\u001b[0m\u001b[0mkey\u001b[0m\u001b[1;33m)\u001b[0m\u001b[1;33m\u001b[0m\u001b[1;33m\u001b[0m\u001b[0m\n\u001b[0m\u001b[0;32m    721\u001b[0m \u001b[1;33m\u001b[0m\u001b[0m\n\u001b[0;32m    722\u001b[0m         \u001b[0miloc\u001b[0m \u001b[1;33m=\u001b[0m \u001b[0mself\u001b[0m \u001b[1;32mif\u001b[0m \u001b[0mself\u001b[0m\u001b[1;33m.\u001b[0m\u001b[0mname\u001b[0m \u001b[1;33m==\u001b[0m \u001b[1;34m\"iloc\"\u001b[0m \u001b[1;32melse\u001b[0m \u001b[0mself\u001b[0m\u001b[1;33m.\u001b[0m\u001b[0mobj\u001b[0m\u001b[1;33m.\u001b[0m\u001b[0miloc\u001b[0m\u001b[1;33m\u001b[0m\u001b[1;33m\u001b[0m\u001b[0m\n",
      "\u001b[1;32m~\\anaconda3\\lib\\site-packages\\pandas\\core\\indexing.py\u001b[0m in \u001b[0;36m_has_valid_setitem_indexer\u001b[1;34m(self, indexer)\u001b[0m\n\u001b[0;32m   1459\u001b[0m             \u001b[1;32melif\u001b[0m \u001b[0mis_integer\u001b[0m\u001b[1;33m(\u001b[0m\u001b[0mi\u001b[0m\u001b[1;33m)\u001b[0m\u001b[1;33m:\u001b[0m\u001b[1;33m\u001b[0m\u001b[1;33m\u001b[0m\u001b[0m\n\u001b[0;32m   1460\u001b[0m                 \u001b[1;32mif\u001b[0m \u001b[0mi\u001b[0m \u001b[1;33m>=\u001b[0m \u001b[0mlen\u001b[0m\u001b[1;33m(\u001b[0m\u001b[0max\u001b[0m\u001b[1;33m)\u001b[0m\u001b[1;33m:\u001b[0m\u001b[1;33m\u001b[0m\u001b[1;33m\u001b[0m\u001b[0m\n\u001b[1;32m-> 1461\u001b[1;33m                     \u001b[1;32mraise\u001b[0m \u001b[0mIndexError\u001b[0m\u001b[1;33m(\u001b[0m\u001b[1;34m\"iloc cannot enlarge its target object\"\u001b[0m\u001b[1;33m)\u001b[0m\u001b[1;33m\u001b[0m\u001b[1;33m\u001b[0m\u001b[0m\n\u001b[0m\u001b[0;32m   1462\u001b[0m             \u001b[1;32melif\u001b[0m \u001b[0misinstance\u001b[0m\u001b[1;33m(\u001b[0m\u001b[0mi\u001b[0m\u001b[1;33m,\u001b[0m \u001b[0mdict\u001b[0m\u001b[1;33m)\u001b[0m\u001b[1;33m:\u001b[0m\u001b[1;33m\u001b[0m\u001b[1;33m\u001b[0m\u001b[0m\n\u001b[0;32m   1463\u001b[0m                 \u001b[1;32mraise\u001b[0m \u001b[0mIndexError\u001b[0m\u001b[1;33m(\u001b[0m\u001b[1;34m\"iloc cannot enlarge its target object\"\u001b[0m\u001b[1;33m)\u001b[0m\u001b[1;33m\u001b[0m\u001b[1;33m\u001b[0m\u001b[0m\n",
      "\u001b[1;31mIndexError\u001b[0m: iloc cannot enlarge its target object"
     ]
    }
   ],
   "source": [
    "#adding row at the position which does not exisit in this dataframe raise an error i.e iloc doesnt not expand the size of df\n",
    "r=len(df.index)  # gives new length of the rows \n",
    "print(r)\n",
    "df.iloc[r]=[\"x\",90,65]   # the existing 3rd row has been replaced by new one\n",
    "df"
   ]
  },
  {
   "cell_type": "markdown",
   "id": "d1d5c7b1",
   "metadata": {},
   "source": [
    "##### Using LOC\n",
    "You can add a row to the dataframe using the loc parameter. loc[] is used to access a set of rows from the dataframe using the index label. You can also assign rows with a specific index label using the loc attribute.\n",
    "\n",
    "When using the loc[] attribute, it’s not mandatory that a row already exists with a specific label. It’ll automatically extend the dataframe and add a row with that label, unlike the iloc[] method."
   ]
  },
  {
   "cell_type": "code",
   "execution_count": 26,
   "id": "a735db29",
   "metadata": {},
   "outputs": [
    {
     "data": {
      "text/html": [
       "<div>\n",
       "<style scoped>\n",
       "    .dataframe tbody tr th:only-of-type {\n",
       "        vertical-align: middle;\n",
       "    }\n",
       "\n",
       "    .dataframe tbody tr th {\n",
       "        vertical-align: top;\n",
       "    }\n",
       "\n",
       "    .dataframe thead th {\n",
       "        text-align: right;\n",
       "    }\n",
       "</style>\n",
       "<table border=\"1\" class=\"dataframe\">\n",
       "  <thead>\n",
       "    <tr style=\"text-align: right;\">\n",
       "      <th></th>\n",
       "      <th>Name</th>\n",
       "      <th>Maths</th>\n",
       "      <th>Science</th>\n",
       "    </tr>\n",
       "  </thead>\n",
       "  <tbody>\n",
       "    <tr>\n",
       "      <th>0</th>\n",
       "      <td>Martha</td>\n",
       "      <td>87</td>\n",
       "      <td>83</td>\n",
       "    </tr>\n",
       "    <tr>\n",
       "      <th>1</th>\n",
       "      <td>Tim</td>\n",
       "      <td>91</td>\n",
       "      <td>99</td>\n",
       "    </tr>\n",
       "    <tr>\n",
       "      <th>2</th>\n",
       "      <td>Rob</td>\n",
       "      <td>97</td>\n",
       "      <td>84</td>\n",
       "    </tr>\n",
       "    <tr>\n",
       "      <th>3</th>\n",
       "      <td>balmeet</td>\n",
       "      <td>90</td>\n",
       "      <td>65</td>\n",
       "    </tr>\n",
       "    <tr>\n",
       "      <th>4</th>\n",
       "      <td>Amy</td>\n",
       "      <td>89</td>\n",
       "      <td>93</td>\n",
       "    </tr>\n",
       "    <tr>\n",
       "      <th>5</th>\n",
       "      <td>Abc</td>\n",
       "      <td>80</td>\n",
       "      <td>95</td>\n",
       "    </tr>\n",
       "  </tbody>\n",
       "</table>\n",
       "</div>"
      ],
      "text/plain": [
       "      Name  Maths  Science\n",
       "0   Martha     87       83\n",
       "1      Tim     91       99\n",
       "2      Rob     97       84\n",
       "3  balmeet     90       65\n",
       "4      Amy     89       93\n",
       "5      Abc     80       95"
      ]
     },
     "execution_count": 26,
     "metadata": {},
     "output_type": "execute_result"
    }
   ],
   "source": [
    "df"
   ]
  },
  {
   "cell_type": "code",
   "execution_count": 28,
   "id": "36a411cf",
   "metadata": {},
   "outputs": [
    {
     "data": {
      "text/html": [
       "<div>\n",
       "<style scoped>\n",
       "    .dataframe tbody tr th:only-of-type {\n",
       "        vertical-align: middle;\n",
       "    }\n",
       "\n",
       "    .dataframe tbody tr th {\n",
       "        vertical-align: top;\n",
       "    }\n",
       "\n",
       "    .dataframe thead th {\n",
       "        text-align: right;\n",
       "    }\n",
       "</style>\n",
       "<table border=\"1\" class=\"dataframe\">\n",
       "  <thead>\n",
       "    <tr style=\"text-align: right;\">\n",
       "      <th></th>\n",
       "      <th>Name</th>\n",
       "      <th>Maths</th>\n",
       "      <th>Science</th>\n",
       "    </tr>\n",
       "  </thead>\n",
       "  <tbody>\n",
       "    <tr>\n",
       "      <th>0</th>\n",
       "      <td>Martha</td>\n",
       "      <td>87</td>\n",
       "      <td>83</td>\n",
       "    </tr>\n",
       "    <tr>\n",
       "      <th>1</th>\n",
       "      <td>Tim</td>\n",
       "      <td>91</td>\n",
       "      <td>99</td>\n",
       "    </tr>\n",
       "    <tr>\n",
       "      <th>2</th>\n",
       "      <td>Rob</td>\n",
       "      <td>97</td>\n",
       "      <td>84</td>\n",
       "    </tr>\n",
       "    <tr>\n",
       "      <th>3</th>\n",
       "      <td>balmeet</td>\n",
       "      <td>90</td>\n",
       "      <td>65</td>\n",
       "    </tr>\n",
       "    <tr>\n",
       "      <th>4</th>\n",
       "      <td>u</td>\n",
       "      <td>67</td>\n",
       "      <td>89</td>\n",
       "    </tr>\n",
       "    <tr>\n",
       "      <th>5</th>\n",
       "      <td>Abc</td>\n",
       "      <td>80</td>\n",
       "      <td>95</td>\n",
       "    </tr>\n",
       "  </tbody>\n",
       "</table>\n",
       "</div>"
      ],
      "text/plain": [
       "      Name  Maths  Science\n",
       "0   Martha     87       83\n",
       "1      Tim     91       99\n",
       "2      Rob     97       84\n",
       "3  balmeet     90       65\n",
       "4        u     67       89\n",
       "5      Abc     80       95"
      ]
     },
     "execution_count": 28,
     "metadata": {},
     "output_type": "execute_result"
    }
   ],
   "source": [
    "df.loc[4]=[\"u\",67,89]  #it also replace the existing one as iloc does\n",
    "df"
   ]
  },
  {
   "cell_type": "code",
   "execution_count": 29,
   "id": "cfb52c5a",
   "metadata": {},
   "outputs": [
    {
     "data": {
      "text/html": [
       "<div>\n",
       "<style scoped>\n",
       "    .dataframe tbody tr th:only-of-type {\n",
       "        vertical-align: middle;\n",
       "    }\n",
       "\n",
       "    .dataframe tbody tr th {\n",
       "        vertical-align: top;\n",
       "    }\n",
       "\n",
       "    .dataframe thead th {\n",
       "        text-align: right;\n",
       "    }\n",
       "</style>\n",
       "<table border=\"1\" class=\"dataframe\">\n",
       "  <thead>\n",
       "    <tr style=\"text-align: right;\">\n",
       "      <th></th>\n",
       "      <th>Name</th>\n",
       "      <th>Maths</th>\n",
       "      <th>Science</th>\n",
       "    </tr>\n",
       "  </thead>\n",
       "  <tbody>\n",
       "    <tr>\n",
       "      <th>0</th>\n",
       "      <td>Martha</td>\n",
       "      <td>87</td>\n",
       "      <td>83</td>\n",
       "    </tr>\n",
       "    <tr>\n",
       "      <th>1</th>\n",
       "      <td>Tim</td>\n",
       "      <td>91</td>\n",
       "      <td>99</td>\n",
       "    </tr>\n",
       "    <tr>\n",
       "      <th>2</th>\n",
       "      <td>Rob</td>\n",
       "      <td>97</td>\n",
       "      <td>84</td>\n",
       "    </tr>\n",
       "    <tr>\n",
       "      <th>3</th>\n",
       "      <td>balmeet</td>\n",
       "      <td>90</td>\n",
       "      <td>65</td>\n",
       "    </tr>\n",
       "    <tr>\n",
       "      <th>4</th>\n",
       "      <td>u</td>\n",
       "      <td>67</td>\n",
       "      <td>89</td>\n",
       "    </tr>\n",
       "    <tr>\n",
       "      <th>5</th>\n",
       "      <td>Abc</td>\n",
       "      <td>80</td>\n",
       "      <td>95</td>\n",
       "    </tr>\n",
       "    <tr>\n",
       "      <th>6</th>\n",
       "      <td>sanjot</td>\n",
       "      <td>98</td>\n",
       "      <td>90</td>\n",
       "    </tr>\n",
       "  </tbody>\n",
       "</table>\n",
       "</div>"
      ],
      "text/plain": [
       "      Name  Maths  Science\n",
       "0   Martha     87       83\n",
       "1      Tim     91       99\n",
       "2      Rob     97       84\n",
       "3  balmeet     90       65\n",
       "4        u     67       89\n",
       "5      Abc     80       95\n",
       "6   sanjot     98       90"
      ]
     },
     "execution_count": 29,
     "metadata": {},
     "output_type": "execute_result"
    }
   ],
   "source": [
    "df.loc[6]=[\"sanjot\",98,90]  # it may add the new row if that index label is not exist unlike iloc it may enalrge the size of df\n",
    "df"
   ]
  },
  {
   "cell_type": "code",
   "execution_count": 30,
   "id": "c0709e92",
   "metadata": {},
   "outputs": [
    {
     "data": {
      "text/html": [
       "<div>\n",
       "<style scoped>\n",
       "    .dataframe tbody tr th:only-of-type {\n",
       "        vertical-align: middle;\n",
       "    }\n",
       "\n",
       "    .dataframe tbody tr th {\n",
       "        vertical-align: top;\n",
       "    }\n",
       "\n",
       "    .dataframe thead th {\n",
       "        text-align: right;\n",
       "    }\n",
       "</style>\n",
       "<table border=\"1\" class=\"dataframe\">\n",
       "  <thead>\n",
       "    <tr style=\"text-align: right;\">\n",
       "      <th></th>\n",
       "      <th>Name</th>\n",
       "      <th>Maths</th>\n",
       "      <th>Science</th>\n",
       "    </tr>\n",
       "  </thead>\n",
       "  <tbody>\n",
       "    <tr>\n",
       "      <th>0</th>\n",
       "      <td>Martha</td>\n",
       "      <td>87</td>\n",
       "      <td>83</td>\n",
       "    </tr>\n",
       "    <tr>\n",
       "      <th>1</th>\n",
       "      <td>Tim</td>\n",
       "      <td>91</td>\n",
       "      <td>99</td>\n",
       "    </tr>\n",
       "    <tr>\n",
       "      <th>2</th>\n",
       "      <td>bal</td>\n",
       "      <td>90</td>\n",
       "      <td>12</td>\n",
       "    </tr>\n",
       "    <tr>\n",
       "      <th>3</th>\n",
       "      <td>garima</td>\n",
       "      <td>90</td>\n",
       "      <td>12</td>\n",
       "    </tr>\n",
       "    <tr>\n",
       "      <th>4</th>\n",
       "      <td>u</td>\n",
       "      <td>67</td>\n",
       "      <td>89</td>\n",
       "    </tr>\n",
       "    <tr>\n",
       "      <th>5</th>\n",
       "      <td>Abc</td>\n",
       "      <td>80</td>\n",
       "      <td>95</td>\n",
       "    </tr>\n",
       "    <tr>\n",
       "      <th>6</th>\n",
       "      <td>sanjot</td>\n",
       "      <td>98</td>\n",
       "      <td>90</td>\n",
       "    </tr>\n",
       "  </tbody>\n",
       "</table>\n",
       "</div>"
      ],
      "text/plain": [
       "     Name  Maths  Science\n",
       "0  Martha     87       83\n",
       "1     Tim     91       99\n",
       "2     bal     90       12\n",
       "3  garima     90       12\n",
       "4       u     67       89\n",
       "5     Abc     80       95\n",
       "6  sanjot     98       90"
      ]
     },
     "execution_count": 30,
     "metadata": {},
     "output_type": "execute_result"
    }
   ],
   "source": [
    "df.iloc[2:4]=([\"bal\",90,12],[\"garima\",90,12])  # adding rows at specific rows numbers \n",
    "df"
   ]
  },
  {
   "cell_type": "markdown",
   "id": "2f9b0bcf",
   "metadata": {},
   "source": [
    "##### Row Deletion\n",
    "\n",
    "We can delete or drop any rows from a DataFrame using the index label. \n",
    "\n",
    "\n",
    "If in case, the label is duplicate then multiple rows will be deleted.\n"
   ]
  },
  {
   "cell_type": "code",
   "execution_count": 31,
   "id": "fe1e4de7",
   "metadata": {},
   "outputs": [
    {
     "name": "stdout",
     "output_type": "stream",
     "text": [
      "dataframe 1 :\n",
      "\n",
      "    x  y\n",
      "0  4  5\n",
      "1  6  7\n",
      "dataframe 2 :\n",
      "\n",
      "     x   y\n",
      "0   8   9\n",
      "1  10  11\n",
      "dataframe 1 after adding df1 :\n",
      "\n",
      "     x   y\n",
      "0   4   5\n",
      "1   6   7\n",
      "0   8   9\n",
      "1  10  11\n",
      "row with index number 0 has been deleted\n",
      "\n",
      "     x   y\n",
      "1   6   7\n",
      "1  10  11\n",
      "   index   x   y\n",
      "0      1   6   7\n",
      "1      1  10  11\n"
     ]
    },
    {
     "data": {
      "text/html": [
       "<div>\n",
       "<style scoped>\n",
       "    .dataframe tbody tr th:only-of-type {\n",
       "        vertical-align: middle;\n",
       "    }\n",
       "\n",
       "    .dataframe tbody tr th {\n",
       "        vertical-align: top;\n",
       "    }\n",
       "\n",
       "    .dataframe thead th {\n",
       "        text-align: right;\n",
       "    }\n",
       "</style>\n",
       "<table border=\"1\" class=\"dataframe\">\n",
       "  <thead>\n",
       "    <tr style=\"text-align: right;\">\n",
       "      <th></th>\n",
       "      <th>x</th>\n",
       "      <th>y</th>\n",
       "    </tr>\n",
       "  </thead>\n",
       "  <tbody>\n",
       "    <tr>\n",
       "      <th>0</th>\n",
       "      <td>6</td>\n",
       "      <td>7</td>\n",
       "    </tr>\n",
       "    <tr>\n",
       "      <th>1</th>\n",
       "      <td>10</td>\n",
       "      <td>11</td>\n",
       "    </tr>\n",
       "  </tbody>\n",
       "</table>\n",
       "</div>"
      ],
      "text/plain": [
       "    x   y\n",
       "0   6   7\n",
       "1  10  11"
      ]
     },
     "execution_count": 31,
     "metadata": {},
     "output_type": "execute_result"
    }
   ],
   "source": [
    "###Deletion of rows:\n",
    "\n",
    "\n",
    "# importing the pandas library  \n",
    "import pandas as pd  \n",
    "  \n",
    "df1 = pd.DataFrame([[4, 5], [6, 7]], columns = ['x','y'])  \n",
    "df2 = pd.DataFrame([[8, 9], [10, 11]], columns = ['x','y'])  \n",
    "print(\"dataframe 1 :\\n\\n\",df1)  \n",
    "print(\"dataframe 2 :\\n\\n\",df2)  \n",
    "df1 = df1.append(df2) \n",
    "print(\"dataframe 1 after adding df1 :\\n\\n\",df1)  \n",
    "  \n",
    "\n",
    "df1 = df1.drop(0)    #\n",
    "print(\"row with index number 0 has been deleted\\n\\n\",df1)\n",
    "df1=df1.reset_index()\n",
    "print(df1)\n",
    "df1.drop(columns=[\"index\"],inplace=True)\n",
    "df1"
   ]
  },
  {
   "cell_type": "markdown",
   "id": "b292f533",
   "metadata": {},
   "source": [
    "#### columns"
   ]
  },
  {
   "cell_type": "code",
   "execution_count": 32,
   "id": "46aa7bc9",
   "metadata": {},
   "outputs": [
    {
     "name": "stdout",
     "output_type": "stream",
     "text": [
      "     key2  value1  value2\n",
      "key1                     \n",
      "one     a       1       2\n",
      "one     b       3       4\n",
      "one     c       5       6\n",
      "one     d       7       8\n",
      "two     a       9      10\n",
      "two     b      11      12\n",
      "two     c      13      14\n",
      "two     d      15      16 \n",
      "\n",
      "0     1\n",
      "1     3\n",
      "2     5\n",
      "3     7\n",
      "4     9\n",
      "5    11\n",
      "6    13\n",
      "7    15\n",
      "Name: value1, dtype: int64\n",
      "   value1  value2\n",
      "0       1       2\n",
      "1       3       4\n",
      "2       5       6\n",
      "3       7       8\n",
      "4       9      10\n",
      "5      11      12\n",
      "6      13      14\n",
      "7      15      16\n"
     ]
    }
   ],
   "source": [
    "#selcting column : for one column df[\"columnname\"] for two column: df[[\"columnname\"]]\n",
    "import pandas as pd\n",
    "df=pd.read_csv(\"D:\\\\python_datascience\\\\data sets\\\\examples\\\\csv_mindex.csv\")\n",
    "df1=pd.read_csv(\"D:\\\\python_datascience\\\\data sets\\\\examples\\\\csv_mindex.csv\",index_col=[\"key1\"])  # creating key1 as index \n",
    "print(df1,\"\\n\")\n",
    "print(df[\"value1\"])  # selcting particular column indexing starts from 0\n",
    "print(df[[\"value1\",\"value2\"]])   ## selcting more than one column indexing starts from 0 : df[[\"columnname\"]]\n"
   ]
  },
  {
   "cell_type": "code",
   "execution_count": 33,
   "id": "ba4ebe30",
   "metadata": {},
   "outputs": [
    {
     "name": "stdout",
     "output_type": "stream",
     "text": [
      "     key2  value1  value2\n",
      "key1                     \n",
      "one     a       1       2\n",
      "one     b       3       4\n",
      "one     c       5       6\n",
      "one     d       7       8\n",
      "two     a       9      10\n",
      "two     b      11      12\n",
      "two     c      13      14\n",
      "two     d      15      16 \n",
      "\n"
     ]
    },
    {
     "data": {
      "text/html": [
       "<div>\n",
       "<style scoped>\n",
       "    .dataframe tbody tr th:only-of-type {\n",
       "        vertical-align: middle;\n",
       "    }\n",
       "\n",
       "    .dataframe tbody tr th {\n",
       "        vertical-align: top;\n",
       "    }\n",
       "\n",
       "    .dataframe thead th {\n",
       "        text-align: right;\n",
       "    }\n",
       "</style>\n",
       "<table border=\"1\" class=\"dataframe\">\n",
       "  <thead>\n",
       "    <tr style=\"text-align: right;\">\n",
       "      <th></th>\n",
       "      <th>key2</th>\n",
       "      <th>value1</th>\n",
       "      <th>value2</th>\n",
       "      <th>newcol1</th>\n",
       "    </tr>\n",
       "    <tr>\n",
       "      <th>key1</th>\n",
       "      <th></th>\n",
       "      <th></th>\n",
       "      <th></th>\n",
       "      <th></th>\n",
       "    </tr>\n",
       "  </thead>\n",
       "  <tbody>\n",
       "    <tr>\n",
       "      <th>one</th>\n",
       "      <td>a</td>\n",
       "      <td>1</td>\n",
       "      <td>2</td>\n",
       "      <td>1</td>\n",
       "    </tr>\n",
       "    <tr>\n",
       "      <th>one</th>\n",
       "      <td>b</td>\n",
       "      <td>3</td>\n",
       "      <td>4</td>\n",
       "      <td>2</td>\n",
       "    </tr>\n",
       "    <tr>\n",
       "      <th>one</th>\n",
       "      <td>c</td>\n",
       "      <td>5</td>\n",
       "      <td>6</td>\n",
       "      <td>3</td>\n",
       "    </tr>\n",
       "    <tr>\n",
       "      <th>one</th>\n",
       "      <td>d</td>\n",
       "      <td>7</td>\n",
       "      <td>8</td>\n",
       "      <td>4</td>\n",
       "    </tr>\n",
       "    <tr>\n",
       "      <th>two</th>\n",
       "      <td>a</td>\n",
       "      <td>9</td>\n",
       "      <td>10</td>\n",
       "      <td>5</td>\n",
       "    </tr>\n",
       "    <tr>\n",
       "      <th>two</th>\n",
       "      <td>b</td>\n",
       "      <td>11</td>\n",
       "      <td>12</td>\n",
       "      <td>6</td>\n",
       "    </tr>\n",
       "    <tr>\n",
       "      <th>two</th>\n",
       "      <td>c</td>\n",
       "      <td>13</td>\n",
       "      <td>14</td>\n",
       "      <td>7</td>\n",
       "    </tr>\n",
       "    <tr>\n",
       "      <th>two</th>\n",
       "      <td>d</td>\n",
       "      <td>15</td>\n",
       "      <td>16</td>\n",
       "      <td>8</td>\n",
       "    </tr>\n",
       "  </tbody>\n",
       "</table>\n",
       "</div>"
      ],
      "text/plain": [
       "     key2  value1  value2  newcol1\n",
       "key1                              \n",
       "one     a       1       2        1\n",
       "one     b       3       4        2\n",
       "one     c       5       6        3\n",
       "one     d       7       8        4\n",
       "two     a       9      10        5\n",
       "two     b      11      12        6\n",
       "two     c      13      14        7\n",
       "two     d      15      16        8"
      ]
     },
     "execution_count": 33,
     "metadata": {},
     "output_type": "execute_result"
    }
   ],
   "source": [
    "## column addition \n",
    "import pandas as pd\n",
    "df=pd.read_csv(\"D:\\\\python_datascience\\\\data sets\\\\examples\\\\csv_mindex.csv\")\n",
    "df1=pd.read_csv(\"D:\\\\python_datascience\\\\data sets\\\\examples\\\\csv_mindex.csv\",index_col=[\"key1\"])  # creating key1 as index \n",
    "print(df1,\"\\n\")\n",
    "df1[\"newcol1\"]=list(range(1,9))  # adding new column to existing df\n",
    "df1\n"
   ]
  },
  {
   "cell_type": "code",
   "execution_count": 34,
   "id": "446a9de4",
   "metadata": {},
   "outputs": [
    {
     "name": "stdout",
     "output_type": "stream",
     "text": [
      "     key2  value1  value2\n",
      "key1                     \n",
      "one     a       1       2\n",
      "one     b       3       4\n",
      "one     c       5       6\n",
      "one     d       7       8\n",
      "two     a       9      10\n",
      "two     b      11      12\n",
      "two     c      13      14\n",
      "two     d      15      16 \n",
      "\n",
      "     key2  value2\n",
      "key1             \n",
      "one     a       2\n",
      "one     b       4\n",
      "one     c       6\n",
      "one     d       8\n",
      "two     a      10\n",
      "two     b      12\n",
      "two     c      14\n",
      "two     d      16\n",
      "Empty DataFrame\n",
      "Columns: []\n",
      "Index: [one, one, one, one, two, two, two, two]\n"
     ]
    }
   ],
   "source": [
    "# Column Deletion:  In Order to delete a column in Pandas DataFrame, we can use the drop() method.\n",
    "import pandas as pd\n",
    "df=pd.read_csv(\"D:\\\\python_datascience\\\\data sets\\\\examples\\\\csv_mindex.csv\")\n",
    "df1=pd.read_csv(\"D:\\\\python_datascience\\\\data sets\\\\examples\\\\csv_mindex.csv\",index_col=[\"key1\"])  # creating key1 as index \n",
    "print(df1,\"\\n\")\n",
    "df1.drop(columns=[\"value1\"],inplace=True)\n",
    "#df1.drop([\"value1\"],inplace=True)\n",
    "print(df1)\n",
    "df1.drop([\"key2\",\"value2\"],axis=1,inplace=True)  \n",
    "print(df1)"
   ]
  },
  {
   "cell_type": "code",
   "execution_count": 35,
   "id": "798b8643",
   "metadata": {},
   "outputs": [
    {
     "data": {
      "text/html": [
       "<div>\n",
       "<style scoped>\n",
       "    .dataframe tbody tr th:only-of-type {\n",
       "        vertical-align: middle;\n",
       "    }\n",
       "\n",
       "    .dataframe tbody tr th {\n",
       "        vertical-align: top;\n",
       "    }\n",
       "\n",
       "    .dataframe thead th {\n",
       "        text-align: right;\n",
       "    }\n",
       "</style>\n",
       "<table border=\"1\" class=\"dataframe\">\n",
       "  <thead>\n",
       "    <tr style=\"text-align: right;\">\n",
       "      <th></th>\n",
       "      <th>A</th>\n",
       "      <th>B</th>\n",
       "      <th>c</th>\n",
       "      <th>cat_col</th>\n",
       "    </tr>\n",
       "  </thead>\n",
       "  <tbody>\n",
       "    <tr>\n",
       "      <th>0</th>\n",
       "      <td>1.0</td>\n",
       "      <td>5.0</td>\n",
       "      <td>1</td>\n",
       "      <td>A</td>\n",
       "    </tr>\n",
       "    <tr>\n",
       "      <th>1</th>\n",
       "      <td>2.0</td>\n",
       "      <td>NaN</td>\n",
       "      <td>2</td>\n",
       "      <td>B</td>\n",
       "    </tr>\n",
       "    <tr>\n",
       "      <th>2</th>\n",
       "      <td>NaN</td>\n",
       "      <td>NaN</td>\n",
       "      <td>3</td>\n",
       "      <td>C</td>\n",
       "    </tr>\n",
       "  </tbody>\n",
       "</table>\n",
       "</div>"
      ],
      "text/plain": [
       "     A    B  c cat_col\n",
       "0  1.0  5.0  1       A\n",
       "1  2.0  NaN  2       B\n",
       "2  NaN  NaN  3       C"
      ]
     },
     "execution_count": 35,
     "metadata": {},
     "output_type": "execute_result"
    }
   ],
   "source": [
    "## adding categorical data column\n",
    "import numpy as np\n",
    "import pandas as pd\n",
    "df=pd.DataFrame({\"A\":[1,2,np.nan],\"B\":[5,np.nan,np.nan],\"c\":[1,2,3]})  #np.nan is used to add missing values \n",
    "df[\"cat_col\"]=pd.Series(\"A B C\".split())\n",
    "df"
   ]
  },
  {
   "cell_type": "markdown",
   "id": "9be5da29",
   "metadata": {},
   "source": [
    "#### wap to create dataframe from dictionary and add new columns to it "
   ]
  },
  {
   "cell_type": "code",
   "execution_count": 36,
   "id": "09c68c88",
   "metadata": {
    "collapsed": true
   },
   "outputs": [
    {
     "name": "stdout",
     "output_type": "stream",
     "text": [
      "   country   GDP\n",
      "0    india   123\n",
      "1       uk   345\n",
      "2  austria   678\n",
      "3       us  2134\n",
      "   country   GDP  gdp_square\n",
      "0    india   123       15129\n",
      "1       uk   345      119025\n",
      "2  austria   678      459684\n",
      "3       us  2134     4553956\n"
     ]
    },
    {
     "data": {
      "text/html": [
       "<div>\n",
       "<style scoped>\n",
       "    .dataframe tbody tr th:only-of-type {\n",
       "        vertical-align: middle;\n",
       "    }\n",
       "\n",
       "    .dataframe tbody tr th {\n",
       "        vertical-align: top;\n",
       "    }\n",
       "\n",
       "    .dataframe thead th {\n",
       "        text-align: right;\n",
       "    }\n",
       "</style>\n",
       "<table border=\"1\" class=\"dataframe\">\n",
       "  <thead>\n",
       "    <tr style=\"text-align: right;\">\n",
       "      <th></th>\n",
       "      <th>country</th>\n",
       "      <th>GDP</th>\n",
       "      <th>gdp_square</th>\n",
       "      <th>gdp_logvalues</th>\n",
       "    </tr>\n",
       "  </thead>\n",
       "  <tbody>\n",
       "    <tr>\n",
       "      <th>0</th>\n",
       "      <td>india</td>\n",
       "      <td>123</td>\n",
       "      <td>15129</td>\n",
       "      <td>1</td>\n",
       "    </tr>\n",
       "    <tr>\n",
       "      <th>1</th>\n",
       "      <td>uk</td>\n",
       "      <td>345</td>\n",
       "      <td>119025</td>\n",
       "      <td>2</td>\n",
       "    </tr>\n",
       "    <tr>\n",
       "      <th>2</th>\n",
       "      <td>austria</td>\n",
       "      <td>678</td>\n",
       "      <td>459684</td>\n",
       "      <td>3</td>\n",
       "    </tr>\n",
       "    <tr>\n",
       "      <th>3</th>\n",
       "      <td>us</td>\n",
       "      <td>2134</td>\n",
       "      <td>4553956</td>\n",
       "      <td>4</td>\n",
       "    </tr>\n",
       "  </tbody>\n",
       "</table>\n",
       "</div>"
      ],
      "text/plain": [
       "   country   GDP  gdp_square  gdp_logvalues\n",
       "0    india   123       15129              1\n",
       "1       uk   345      119025              2\n",
       "2  austria   678      459684              3\n",
       "3       us  2134     4553956              4"
      ]
     },
     "execution_count": 36,
     "metadata": {},
     "output_type": "execute_result"
    }
   ],
   "source": [
    "import pandas as pd\n",
    "import numpy as np\n",
    "data={\"country\":[\"india\",\"uk\",\"austria\",\"us\"],\"GDP\":[123,345,678,2134]}  # from dictionary \n",
    "df=pd.DataFrame(data)\n",
    "print(df)\n",
    "l=[]\n",
    "##l1=[]\n",
    "for i in df[\"GDP\"]:\n",
    "    square=i*i\n",
    "    l.append(square)\n",
    "    #l1.append(round(np.log(i),2)\n",
    "df[\"gdp_square\"]=pd.Series(l)\n",
    "print(df)\n",
    "df[\"gdp_logvalues\"]=pd.Series(l1)\n",
    "df\n"
   ]
  },
  {
   "cell_type": "markdown",
   "id": "3cdaf8e8",
   "metadata": {},
   "source": []
  }
 ],
 "metadata": {
  "kernelspec": {
   "display_name": "Python 3 (ipykernel)",
   "language": "python",
   "name": "python3"
  },
  "language_info": {
   "codemirror_mode": {
    "name": "ipython",
    "version": 3
   },
   "file_extension": ".py",
   "mimetype": "text/x-python",
   "name": "python",
   "nbconvert_exporter": "python",
   "pygments_lexer": "ipython3",
   "version": "3.9.7"
  }
 },
 "nbformat": 4,
 "nbformat_minor": 5
}
