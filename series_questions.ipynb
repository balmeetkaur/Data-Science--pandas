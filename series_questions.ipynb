{
 "cells": [
  {
   "cell_type": "code",
   "execution_count": 1,
   "id": "a600fc4c",
   "metadata": {},
   "outputs": [
    {
     "name": "stdout",
     "output_type": "stream",
     "text": [
      "0    1\n",
      "1    2\n",
      "2    3\n",
      "3    4\n",
      "4    5\n",
      "dtype: int64\n",
      "<class 'pandas.core.series.Series'>\n"
     ]
    }
   ],
   "source": [
    "'''Write a Pandas program to create and display a one-dimensional\\\n",
    "array-like object containing an array of data using Pandas module. '''\n",
    "import pandas as pd\n",
    "arr=pd.Series([1,2,3,4,5])\n",
    "print(arr)\n",
    "print(type(arr))"
   ]
  },
  {
   "cell_type": "code",
   "execution_count": 2,
   "id": "2b7f3fa0",
   "metadata": {},
   "outputs": [
    {
     "name": "stdout",
     "output_type": "stream",
     "text": [
      "0    1\n",
      "1    2\n",
      "2    3\n",
      "3    4\n",
      "4    5\n",
      "dtype: int64\n",
      "the list is  [1, 2, 3, 4, 5]\n",
      "the tyep is  <class 'list'>\n"
     ]
    }
   ],
   "source": [
    "'''Write a Pandas program to convert a Panda module Series to Python list and it's type'''\n",
    "import pandas as pd\n",
    "arr=pd.Series([1,2,3,4,5])\n",
    "print(arr)\n",
    "l1=list(arr)\n",
    "print(\"the list is \",l1)\n",
    "print(\"the tyep is \",type(l1))"
   ]
  },
  {
   "cell_type": "code",
   "execution_count": 3,
   "id": "e05c684f",
   "metadata": {},
   "outputs": [
    {
     "name": "stdout",
     "output_type": "stream",
     "text": [
      "series 1 is\n",
      " 0     2\n",
      "1     4\n",
      "2     6\n",
      "3     8\n",
      "4    10\n",
      "dtype: int64 \n",
      "\n",
      "series 2 is\n",
      " 0    1\n",
      "1    3\n",
      "2    5\n",
      "3    7\n",
      "4    9\n",
      "dtype: int64\n",
      "addition\n",
      " 0     3\n",
      "1     7\n",
      "2    11\n",
      "3    15\n",
      "4    19\n",
      "dtype: int64\n",
      "subtraction\n",
      " 0    1\n",
      "1    1\n",
      "2    1\n",
      "3    1\n",
      "4    1\n",
      "dtype: int64\n",
      "multiplication\n",
      " 0     2\n",
      "1    12\n",
      "2    30\n",
      "3    56\n",
      "4    90\n",
      "dtype: int64\n",
      "division\n",
      " 0    2.000000\n",
      "1    1.333333\n",
      "2    1.200000\n",
      "3    1.142857\n",
      "4    1.111111\n",
      "dtype: float64\n"
     ]
    }
   ],
   "source": [
    "''' Write a Pandas program to add, subtract, multiple and divide two Pandas Series. \n",
    "taking Series: [2, 4, 6, 8, 10], [1, 3, 5, 7, 9]'''\n",
    "import pandas as pd\n",
    "s1=pd.Series([2, 4, 6, 8, 10])\n",
    "s2=pd.Series([1, 3, 5, 7, 9])\n",
    "print(\"series 1 is\\n\",s1,\"\\n\")\n",
    "print(\"series 2 is\\n\",s2)\n",
    "resultant1=s1+s2\n",
    "print(\"addition\\n\",resultant1)\n",
    "resultant2=s1-s2\n",
    "print(\"subtraction\\n\",resultant2)\n",
    "resultant3=s1*s2\n",
    "print(\"multiplication\\n\",resultant3)\n",
    "resultant4=s1/s2\n",
    "print(\"division\\n\",resultant4)\n",
    "\n"
   ]
  },
  {
   "cell_type": "code",
   "execution_count": 4,
   "id": "c5fb016a",
   "metadata": {},
   "outputs": [
    {
     "name": "stdout",
     "output_type": "stream",
     "text": [
      "series 1 is\n",
      " 0     2\n",
      "1     4\n",
      "2     6\n",
      "3     8\n",
      "4    10\n",
      "dtype: int64 \n",
      "\n",
      "series 2 is\n",
      " 0    1\n",
      "1    3\n",
      "2    5\n",
      "3    7\n",
      "4    9\n",
      "dtype: int64\n",
      "Compare the elements of the said Series:\n",
      "less than\n",
      " 0    True\n",
      "1    True\n",
      "2    True\n",
      "3    True\n",
      "4    True\n",
      "dtype: bool\n",
      "equals\n",
      " 0    False\n",
      "1    False\n",
      "2    False\n",
      "3    False\n",
      "4    False\n",
      "dtype: bool\n",
      "gresater than\n",
      " 0    False\n",
      "1    False\n",
      "2    False\n",
      "3    False\n",
      "4    False\n",
      "dtype: bool\n"
     ]
    }
   ],
   "source": [
    "'''Write a Pandas program to compare the elements of the two Pandas Series. Go to the editor\n",
    "taking Series: [2, 4, 6, 8, 10], [1, 3, 5, 7, 10]'''\n",
    "import pandas as pd\n",
    "s1=pd.Series([2, 4, 6, 8, 10])\n",
    "s2=pd.Series([1, 3, 5, 7, 9])\n",
    "print(\"series 1 is\\n\",s1,\"\\n\")\n",
    "print(\"series 2 is\\n\",s2)\n",
    "\n",
    "print(\"Compare the elements of the said Series:\")\n",
    "l=[]\n",
    "r1=s1>s2\n",
    "r2=s1==s2\n",
    "r3=s1<s2\n",
    "print(\"less than\\n\",r1)\n",
    "print(\"equals\\n\",r2)\n",
    "print(\"gresater than\\n\",r3)\n",
    "\n"
   ]
  },
  {
   "cell_type": "code",
   "execution_count": 5,
   "id": "994feb30",
   "metadata": {},
   "outputs": [
    {
     "data": {
      "text/plain": [
       "a    100\n",
       "b    200\n",
       "c    300\n",
       "d    400\n",
       "e    800\n",
       "dtype: int64"
      ]
     },
     "execution_count": 5,
     "metadata": {},
     "output_type": "execute_result"
    }
   ],
   "source": [
    "'''Write a Pandas program to convert a dictionary to a Pandas series. \n",
    "Original dictionary:\n",
    "{'a': 100, 'b': 200, 'c': 300, 'd': 400, 'e': 800}\n",
    "Converted series:\n",
    "a 100\n",
    "b 200\n",
    "c 300\n",
    "d 400'''\n",
    "import pandas as pd\n",
    "d={'a': 100, 'b': 200, 'c': 300, 'd': 400, 'e': 800}  # keys bydeault would be the index\n",
    "ser=pd.Series(d)\n",
    "ser"
   ]
  },
  {
   "cell_type": "code",
   "execution_count": 6,
   "id": "1eb985ff",
   "metadata": {},
   "outputs": [
    {
     "name": "stdout",
     "output_type": "stream",
     "text": [
      "<class 'numpy.ndarray'>\n"
     ]
    },
    {
     "data": {
      "text/plain": [
       "0    10\n",
       "1    20\n",
       "2    30\n",
       "3    40\n",
       "4    50\n",
       "dtype: int32"
      ]
     },
     "execution_count": 6,
     "metadata": {},
     "output_type": "execute_result"
    }
   ],
   "source": [
    "'''Write a Pandas program to convert a NumPy array to a Pandas series. \n",
    "\n",
    "NumPy array:\n",
    "[10 20 30 40 50]\n",
    "Converted Pandas series:\n",
    "0 10\n",
    "1 20\n",
    "2 30\n",
    "3 40\n",
    "4 50\n",
    "dtype: int64'''\n",
    "\n",
    "import numpy as np\n",
    "arr=np.array([10, 20, 30, 40 ,50])\n",
    "print(type(arr))\n",
    "ser=pd.Series(arr)\n",
    "ser"
   ]
  },
  {
   "cell_type": "code",
   "execution_count": 7,
   "id": "36986a01",
   "metadata": {},
   "outputs": [
    {
     "name": "stdout",
     "output_type": "stream",
     "text": [
      "<class 'pandas.core.series.Series'>\n",
      "given series is\n",
      " 0     100.0\n",
      "1     200.0\n",
      "2    python\n",
      "3    300.12\n",
      "4     400.0\n",
      "dtype: object\n",
      "changed series \n",
      " 0     100.0\n",
      "1     200.0\n",
      "2       NaN\n",
      "3    300.12\n",
      "4     400.0\n",
      "dtype: object\n",
      "float64\n"
     ]
    }
   ],
   "source": [
    "'''Write a Pandas program to change the data type of given a column or a Series. \n",
    "Sample Series:\n",
    "Original Data Series:\n",
    "0 100\n",
    "1 200\n",
    "2 python\n",
    "3 300.12\n",
    "4 400\n",
    "dtype: object\n",
    "Change the said data type to numeric:\n",
    "0 100.00\n",
    "1 200.00\n",
    "2 NaN\n",
    "3 300.12\n",
    "4 400.00\n",
    "dtype: float64'''\n",
    "\n",
    "ser=pd.Series([100.0,200.0,\"python\",300.12,400.0])\n",
    "print(type(ser))\n",
    "print(\"given series is\\n\",ser)\n",
    "ser[2]=np.nan\n",
    "print(\"changed series \\n\",ser)\n",
    "s2 = pd.to_numeric(ser) \n",
    "print(s2.dtype)\n",
    "\n"
   ]
  },
  {
   "cell_type": "code",
   "execution_count": 8,
   "id": "4dec21c0",
   "metadata": {},
   "outputs": [
    {
     "name": "stdout",
     "output_type": "stream",
     "text": [
      "   col1  col2  col3\n",
      "0     1     4     7\n",
      "1     2     5     5\n",
      "2     3     6     8\n",
      "3     4     9    12\n",
      "4     7     5     1\n",
      "5    11     0    11\n",
      "0     1\n",
      "1     2\n",
      "2     3\n",
      "3     4\n",
      "4     7\n",
      "5    11\n",
      "Name: col1, dtype: int64\n"
     ]
    },
    {
     "data": {
      "text/plain": [
       "pandas.core.series.Series"
      ]
     },
     "execution_count": 8,
     "metadata": {},
     "output_type": "execute_result"
    }
   ],
   "source": [
    "'''Write a Pandas program to convert the first column of a DataFrame as a Series. \n",
    "Original DataFrame\n",
    "col1 col2 col3\n",
    "0 1 4 7\n",
    "1 2 5 5\n",
    "2 3 6 8\n",
    "3 4 9 12\n",
    "4 7 5 1\n",
    "5 11 0 11\n",
    "1st column as a Series:\n",
    "0 1\n",
    "1 2\n",
    "2 3\n",
    "3 4'''\n",
    "import pandas as pd\n",
    "d={\"col1\":[1,2,3,4,7,11],\"col2\":[4,5,6,9,5,0],\"col3\":[7,5,8,12,1,11]}\n",
    "df=pd.DataFrame(d)\n",
    "print(df)\n",
    "print(df[\"col1\"])\n",
    "type(df[\"col1\"])\n"
   ]
  },
  {
   "cell_type": "code",
   "execution_count": 9,
   "id": "01e435d8",
   "metadata": {},
   "outputs": [
    {
     "name": "stdout",
     "output_type": "stream",
     "text": [
      "0       100\n",
      "1       200\n",
      "2    python\n",
      "3    300.12\n",
      "4       400\n",
      "dtype: object\n"
     ]
    },
    {
     "data": {
      "text/plain": [
       "array([100, 200, 'python', 300.12, 400], dtype=object)"
      ]
     },
     "execution_count": 9,
     "metadata": {},
     "output_type": "execute_result"
    }
   ],
   "source": [
    "'''Write a Pandas program to convert a given Series to an array. \n",
    "Sample Output:\n",
    "Original Data Series:\n",
    "0 100\n",
    "1 200\n",
    "2 python\n",
    "3 300.12\n",
    "4 400\n",
    "dtype: object\n",
    "Series to an array\n",
    "['100' '200' 'python' '300.12' '400']'''\n",
    "series1=pd.Series([100,200,\"python\",300.12,400])\n",
    "print(series1)\n",
    "ar=series1.to_numpy()\n",
    "ar"
   ]
  },
  {
   "cell_type": "code",
   "execution_count": 10,
   "id": "aa6cbdf2",
   "metadata": {},
   "outputs": [
    {
     "name": "stdout",
     "output_type": "stream",
     "text": [
      "0    [red, green, white]\n",
      "1          [red, yellow]\n",
      "2               [yellow]\n",
      "dtype: object\n",
      "['red', 'green', 'white']\n",
      "['red', 'yellow']\n",
      "['yellow']\n"
     ]
    },
    {
     "data": {
      "text/plain": [
       "0       red\n",
       "1     green\n",
       "2     white\n",
       "3       red\n",
       "4    yellow\n",
       "5    yellow\n",
       "dtype: object"
      ]
     },
     "execution_count": 10,
     "metadata": {},
     "output_type": "execute_result"
    }
   ],
   "source": [
    "''' Write a Pandas program to convert Series of lists to one Series. \n",
    "Sample Output:\n",
    "Original Series of list\n",
    "0 [Red, Green, White]\n",
    "1 [Red, Black]\n",
    "2 [Yellow]\n",
    "dtype: object\n",
    "One Series\n",
    "0 Red\n",
    "1 Green\n",
    "2 White\n",
    "3 Red\n",
    "4 Black\n",
    "5 Yellow\n",
    "dtype: object'''\n",
    "ser=pd.Series([[\"red\",\"green\",\"white\"],[\"red\",\"yellow\"],[\"yellow\"]])\n",
    "print(ser)\n",
    "l1=[]\n",
    "l=list(ser)\n",
    "for i in l:\n",
    "    print(i)\n",
    "    for j in i:\n",
    "        l1.append(j)\n",
    "series1=pd.Series(l1)\n",
    "series1"
   ]
  },
  {
   "cell_type": "code",
   "execution_count": 11,
   "id": "fa53c80f",
   "metadata": {},
   "outputs": [
    {
     "name": "stdout",
     "output_type": "stream",
     "text": [
      "Original Data Series:\n",
      "0       100\n",
      "1       200\n",
      "2    python\n",
      "3    300.12\n",
      "4       400\n",
      "dtype: object\n"
     ]
    },
    {
     "data": {
      "text/plain": [
       "0       100\n",
       "1       200\n",
       "3    300.12\n",
       "4       400\n",
       "2    python\n",
       "dtype: object"
      ]
     },
     "execution_count": 11,
     "metadata": {},
     "output_type": "execute_result"
    }
   ],
   "source": [
    "'''Write a Pandas program to sort a given Series. \n",
    "Sample Output:\n",
    "Original Data Series: 0 100\n",
    "1 200\n",
    "2 python\n",
    "3 300.12\n",
    "4 400\n",
    "dtype: object\n",
    "0 100\n",
    "1 200\n",
    "3 300.12\n",
    "4 400\n",
    "2 python\n",
    "dtype: object'''\n",
    "\n",
    "import pandas as pd\n",
    "s = pd.Series(['100', '200', 'python', '300.12', '400'])\n",
    "print(\"Original Data Series:\")\n",
    "print(s)\n",
    "\n",
    "s.sort_values()"
   ]
  },
  {
   "cell_type": "code",
   "execution_count": 12,
   "id": "e3794282",
   "metadata": {},
   "outputs": [
    {
     "name": "stdout",
     "output_type": "stream",
     "text": [
      "0       100\n",
      "1       200\n",
      "2    python\n",
      "3    300.12\n",
      "4       400\n",
      "dtype: object\n"
     ]
    },
    {
     "data": {
      "text/plain": [
       "0       100\n",
       "1       200\n",
       "2    python\n",
       "3    300.12\n",
       "4       400\n",
       "0       500\n",
       "1       php\n",
       "dtype: object"
      ]
     },
     "execution_count": 12,
     "metadata": {},
     "output_type": "execute_result"
    }
   ],
   "source": [
    "'''Write a Pandas program to add some data to an existing Series. \n",
    "Original Data Series:\n",
    "0 100\n",
    "1 200\n",
    "2 python\n",
    "3 300.12\n",
    "4 400\n",
    "dtype: object\n",
    "Data Series after adding some data:\n",
    "0 100\n",
    "1 200\n",
    "2 python\n",
    "3 300.12\n",
    "4 400\n",
    "0 500\n",
    "1 php\n",
    "dtype: object'''\n",
    "\n",
    "ser1=pd.Series([\"100\",\"200\",\"python\",\"300.12\",\"400\"])\n",
    "print(ser1)\n",
    "ser2=pd.Series([\"500\",\"php\"])\n",
    "s=ser1.append(ser2)\n",
    "s\n"
   ]
  },
  {
   "cell_type": "code",
   "execution_count": 13,
   "id": "6a398cf0",
   "metadata": {},
   "outputs": [
    {
     "name": "stdout",
     "output_type": "stream",
     "text": [
      "0      0\n",
      "1      1\n",
      "2      2\n",
      "3      3\n",
      "4      4\n",
      "5      5\n",
      "6      6\n",
      "7      7\n",
      "8      8\n",
      "9      9\n",
      "10    10\n",
      "dtype: int64\n"
     ]
    },
    {
     "data": {
      "text/plain": [
       "0    0\n",
       "1    1\n",
       "2    2\n",
       "3    3\n",
       "4    4\n",
       "5    5\n",
       "dtype: int64"
      ]
     },
     "execution_count": 13,
     "metadata": {},
     "output_type": "execute_result"
    }
   ],
   "source": [
    "'''Write a Pandas program to create a subset of a given series based on value and condition. \n",
    "Sample Output:\n",
    "Original Data Series:\n",
    "0 0\n",
    "1 1\n",
    "2 2\n",
    "3 3\n",
    "4 4\n",
    "5 5\n",
    "6 6\n",
    "7 7\n",
    "8 8\n",
    "9 9\n",
    "10 10\n",
    "dtype: int64\n",
    "Subset of the above Data Series:\n",
    "0 0\n",
    "1 1\n",
    "2 2\n",
    "3 3\n",
    "4 4\n",
    "5 5\n",
    "dtype: int64'''\n",
    "\n",
    "ser=pd.Series([0,1,2,3,4,5,6,7,8,9,10])\n",
    "print(ser)\n",
    "subset_ser=ser.iloc[0:6]\n",
    "subset_ser"
   ]
  },
  {
   "cell_type": "code",
   "execution_count": 14,
   "id": "07767625",
   "metadata": {},
   "outputs": [
    {
     "name": "stdout",
     "output_type": "stream",
     "text": [
      "A    1\n",
      "B    2\n",
      "C    3\n",
      "D    4\n",
      "E    5\n",
      "dtype: int64\n"
     ]
    },
    {
     "data": {
      "text/plain": [
       "B    1\n",
       "A    2\n",
       "C    3\n",
       "D    4\n",
       "E    5\n",
       "dtype: int64"
      ]
     },
     "execution_count": 14,
     "metadata": {},
     "output_type": "execute_result"
    }
   ],
   "source": [
    "'''Write a Pandas program to change the order of index of a given series. \n",
    "Sample Output:\n",
    "Original Data Series:\n",
    "A 1\n",
    "B 2\n",
    "C 3\n",
    "D 4\n",
    "E 5\n",
    "dtype: int64\n",
    "Data Series after changing the order of index:\n",
    "B 2\n",
    "A 1\n",
    "C 3\n",
    "D 4\n",
    "E 5\n",
    "dtype: int64'''\n",
    "ser=pd.Series({\"A\":1,\"B\":2,\"C\":3,\"D\":4,\"E\":5})\n",
    "print(ser)\n",
    "ser.index=[\"B\",\"A\",\"C\",\"D\",\"E\"]\n",
    "ser"
   ]
  },
  {
   "cell_type": "code",
   "execution_count": 15,
   "id": "704f3605",
   "metadata": {},
   "outputs": [
    {
     "name": "stdout",
     "output_type": "stream",
     "text": [
      "mean is  4.818181818181818\n",
      "standard eviation is  2.522624895547565\n"
     ]
    }
   ],
   "source": [
    "'''Write a Pandas program to create the mean and standard deviation of the data of a given Series. \n",
    "Sample Output:\n",
    "Original Data Series:\n",
    "0 1\n",
    "1 2\n",
    "2 3\n",
    "3 4\n",
    "4 5\n",
    "5 6\n",
    "6 7\n",
    "7 8\n",
    "8 9\n",
    "9 5\n",
    "10 3\n",
    "dtype: int64\n",
    "Mean of the said Data Series:\n",
    "4.818181818181818\n",
    "Standard deviation of the said Data Series:\n",
    "2.522624895547565 '''\n",
    "\n",
    "ser=pd.Series([1,2,3,4,5,6,7,8,9,5,3])\n",
    "print(\"mean is \",ser.mean())\n",
    "print(\"standard eviation is \",ser.std())"
   ]
  },
  {
   "cell_type": "markdown",
   "id": "18d10a51",
   "metadata": {},
   "source": [
    "### problem"
   ]
  },
  {
   "cell_type": "code",
   "execution_count": 40,
   "id": "53078fa6",
   "metadata": {},
   "outputs": [
    {
     "name": "stdout",
     "output_type": "stream",
     "text": [
      "following elements of series 1 is not present in series 2\n",
      " 0    1\n",
      "1    3\n",
      "2    5\n",
      "3    7\n",
      "dtype: int64\n"
     ]
    }
   ],
   "source": [
    "'''Write a Pandas program to get the items of a given series not present in another given series. \n",
    "Sample Output:\n",
    "Original Series:\n",
    "sr1:\n",
    "0 1\n",
    "1 2\n",
    "2 3\n",
    "3 4\n",
    "4 5\n",
    "dtype: int64\n",
    "sr2:\n",
    "0 2\n",
    "1 4\n",
    "2 6\n",
    "3 8\n",
    "4 10\n",
    "dtype: int64\n",
    "Items of sr1 not present in sr2:\n",
    "0 1\n",
    "2 3\n",
    "4 5\n",
    "dtype: int64'''\n",
    "l11=[]\n",
    "s1=pd.Series([1,2,3,4,5,6,7,8])\n",
    "s2=pd.Series([2,4,6,8,10])\n",
    "\n",
    "l2=list(s2)\n",
    "for index, value in s1.items():\n",
    "    if value not in l2:\n",
    "        l11.append(value)\n",
    "new_ser1=pd.Series(l11)\n",
    "print(\"following elements of series 1 is not present in series 2\\n\",new_ser1)"
   ]
  },
  {
   "cell_type": "code",
   "execution_count": 17,
   "id": "bedb1e3e",
   "metadata": {},
   "outputs": [
    {
     "name": "stdout",
     "output_type": "stream",
     "text": [
      "count     6.000000\n",
      "mean     10.659370\n",
      "std       4.247050\n",
      "min       3.000938\n",
      "25%       9.585373\n",
      "50%      11.713798\n",
      "75%      13.458181\n",
      "max      14.612143\n",
      "dtype: float64\n"
     ]
    },
    {
     "data": {
      "text/plain": [
       "11.7137985"
      ]
     },
     "execution_count": 17,
     "metadata": {},
     "output_type": "execute_result"
    }
   ],
   "source": [
    "'''Write a Pandas program to compute the minimum, 25th percentile, median, 75th, and maximum of a given series. \n",
    "Sample Output:\n",
    "Original Series:\n",
    "0 3.000938\n",
    "1 11.370722\n",
    "2 14.612143\n",
    "3 8.990256\n",
    "4 13.925283\n",
    "5 12.056875\n",
    ".... 17 14.118931\n",
    "18 8.247458\n",
    "19 5.526727\n",
    "dtype: float64\n",
    "Minimum, 25th percentile, median, 75th, and maximum of a given series:\n",
    "[ 3.00093811 8.09463867 10.23353705 12.21537733 14.61214321]\n",
    "'''\n",
    "ser=pd.Series([3.000938,11.370722,14.612143,8.990256,13.925283,12.056875])\n",
    "print(ser.describe())\n",
    "ser.median()"
   ]
  },
  {
   "cell_type": "code",
   "execution_count": 18,
   "id": "dd9fe6cb",
   "metadata": {},
   "outputs": [
    {
     "data": {
      "text/plain": [
       "2    5\n",
       "3    5\n",
       "1    4\n",
       "4    3\n",
       "5    2\n",
       "6    2\n",
       "7    2\n",
       "8    1\n",
       "9    1\n",
       "dtype: int64"
      ]
     },
     "execution_count": 18,
     "metadata": {},
     "output_type": "execute_result"
    }
   ],
   "source": [
    "'''Write a Pandas program to calculate the frequency counts of each unique value of a  series. '''\n",
    "\n",
    "ser=pd.Series([1,2,3,4,4,5,3,2,1,6,7,8,9,1,2,3,6,7,3,4,2,1,2,3,5])\n",
    "ser.value_counts()\n"
   ]
  },
  {
   "cell_type": "code",
   "execution_count": 19,
   "id": "71dd1cc4",
   "metadata": {},
   "outputs": [
    {
     "name": "stdout",
     "output_type": "stream",
     "text": [
      "0     1\n",
      "1     2\n",
      "2     3\n",
      "3     4\n",
      "4     5\n",
      "5     2\n",
      "6     3\n",
      "7     4\n",
      "8     4\n",
      "9     4\n",
      "10    5\n",
      "11    6\n",
      "12    7\n",
      "13    6\n",
      "14    1\n",
      "15    2\n",
      "16    3\n",
      "17    4\n",
      "18    3\n",
      "dtype: int64 \n",
      "\n"
     ]
    },
    {
     "data": {
      "text/plain": [
       "0         1\n",
       "1         2\n",
       "2         3\n",
       "3     other\n",
       "4         5\n",
       "5         2\n",
       "6         3\n",
       "7     other\n",
       "8     other\n",
       "9     other\n",
       "10        5\n",
       "11        6\n",
       "12        7\n",
       "13        6\n",
       "14        1\n",
       "15        2\n",
       "16        3\n",
       "17    other\n",
       "18        3\n",
       "dtype: object"
      ]
     },
     "execution_count": 19,
     "metadata": {},
     "output_type": "execute_result"
    }
   ],
   "source": [
    "'''Write a Pandas program to display most frequent value in a given series and replace everything else as 'Other' in the series. \n",
    "Sample Output:\n",
    "Original Series:\n",
    "0 3\n",
    "1 1\n",
    "2 1\n",
    "3 3\n",
    "4 2\n",
    "5 2\n",
    "6 1\n",
    "7 2\n",
    "8 3\n",
    "9 1\n",
    "10 2\n",
    "11 2\n",
    "12 2\n",
    "13 3\n",
    "14 3\n",
    "dtype: int64\n",
    "Top 2 Freq: 2 6\n",
    "3 5\n",
    "1 4\n",
    "dtype: int64\n",
    "0 Other\n",
    "1 Other\n",
    "2 Other\n",
    "3 Other\n",
    "4 2\n",
    "5 2\n",
    "6 Other\n",
    "7 2\n",
    "8 Other\n",
    "9 Other\n",
    "10 2\n",
    "11 2\n",
    "12 2\n",
    "13 Other\n",
    "14 Other\n",
    "dtype: object'''\n",
    "\n",
    "ser=pd.Series([1,2,3,4,5,2,3,4,4,4,5,6,7,6,1,2,3,4,3])\n",
    "print(ser,\"\\n\")\n",
    "ser=ser.where(ser != 4, \"other\")\n",
    "    \n",
    "ser"
   ]
  },
  {
   "cell_type": "code",
   "execution_count": 20,
   "id": "4f20e9e1",
   "metadata": {},
   "outputs": [
    {
     "name": "stdout",
     "output_type": "stream",
     "text": [
      "(array([ 9, 10, 12], dtype=int64),)\n"
     ]
    }
   ],
   "source": [
    "'''Write a Pandas program to find the positions of numbers that are multiples of 5 of a given series. \n",
    "Sample Output:\n",
    "Original Series:\n",
    "0 1\n",
    "1 9\n",
    "2 8\n",
    "3 6\n",
    "4 9\n",
    "5 7\n",
    "6 1\n",
    "7 1\n",
    "8 1\n",
    "dtype: int64\n",
    "Positions of numbers that are multiples of 5:\n",
    "[]'''\n",
    "\n",
    "import numpy as np\n",
    "ser=pd.Series([1,9,8,6,9,7,1,1,1,5,15,12,10])\n",
    "x=np.where((ser%5==0))\n",
    "print(x)"
   ]
  },
  {
   "cell_type": "code",
   "execution_count": 21,
   "id": "c65d85f7",
   "metadata": {},
   "outputs": [
    {
     "name": "stdout",
     "output_type": "stream",
     "text": [
      "0       php\n",
      "1    python\n",
      "2      java\n",
      "3        c#\n",
      "dtype: object\n",
      "PhP\n",
      "PythoN\n",
      "JavA\n",
      "C#\n"
     ]
    }
   ],
   "source": [
    "'''Write a Pandas program convert the first and last character of each word to upper case in each word of a given series. \n",
    "Sample Output:\n",
    "Original Series:\n",
    "0 php\n",
    "1 python\n",
    "2 java\n",
    "3 c#\n",
    "dtype: object\n",
    "First and last character of each word to upper case:\n",
    "0 PhP\n",
    "1 PythoN\n",
    "2 JavA\n",
    "3 C#\n",
    "dtype: object'''\n",
    "\n",
    "ser=pd.Series([\"php\",\"python\",\"java\",\"c#\"])\n",
    "print(ser)\n",
    "for index, value in ser.items():\n",
    "    x=value[0].upper()+value[1:-1]+value[-1].upper()\n",
    "    print(x)\n"
   ]
  },
  {
   "cell_type": "code",
   "execution_count": 22,
   "id": "9e77c594",
   "metadata": {},
   "outputs": [
    {
     "name": "stdout",
     "output_type": "stream",
     "text": [
      "0       php\n",
      "1    python\n",
      "2      java\n",
      "3        c#\n",
      "dtype: object\n",
      "3\n",
      "6\n",
      "4\n",
      "2\n"
     ]
    }
   ],
   "source": [
    "'''Write a Pandas program to calculate the number of characters in each word in a given series. \n",
    "Sample Output:\n",
    "Original Series:\n",
    "0 Php\n",
    "1 Python\n",
    "2 Java\n",
    "3 C#\n",
    "dtype: object\n",
    "Number of characters in each word in the said series:\n",
    "0 3\n",
    "1 6\n",
    "2 4\n",
    "3 2\n",
    "dtype: int64'''\n",
    "\n",
    "ser=pd.Series([\"php\",\"python\",\"java\",\"c#\"])\n",
    "print(ser)\n",
    "for index, value in ser.items():\n",
    "    x=len(value)\n",
    "    print(x)\n",
    "\n"
   ]
  },
  {
   "cell_type": "code",
   "execution_count": 23,
   "id": "6c7f315d",
   "metadata": {},
   "outputs": [
    {
     "name": "stdout",
     "output_type": "stream",
     "text": [
      "[1, 3, 5, 8, 10, 11, 15]\n",
      "[-2, -2, -3, -2, -1, -4]\n"
     ]
    }
   ],
   "source": [
    "'''Write a Pandas program to compute difference of differences between consecutive numbers of a given series. \n",
    "Sample Output:\n",
    "Original Series:\n",
    "0 1\n",
    "1 3\n",
    "2 5\n",
    "3 8\n",
    "4 10\n",
    "5 11\n",
    "6 15\n",
    "dtype: int64\n",
    "Difference of differences between consecutive numbers of the said series:\n",
    "[nan, 2.0, 2.0, 3.0, 2.0, 1.0, 4.0]\n",
    "[nan, nan, 0.0, 1.0, -1.0, -1.0, 3.0]'''\n",
    "\n",
    "ser=pd.Series([1,3,5,8,10,11,15])\n",
    "l=list(ser)\n",
    "print(l)\n",
    "l1=[]\n",
    "for  i in range(0,(len(l)+1)):\n",
    "    if i==len(l)-1:\n",
    "        break\n",
    "    x=l[i]-l[i+1]\n",
    "    l1.append(x)\n",
    "print(l1)\n",
    "    \n"
   ]
  },
  {
   "cell_type": "code",
   "execution_count": 24,
   "id": "a40e0e4f",
   "metadata": {},
   "outputs": [
    {
     "name": "stdout",
     "output_type": "stream",
     "text": [
      "['green', 'orange', 'pink', 'yellow', 'white']\n"
     ]
    }
   ],
   "source": [
    "'''Write a Pandas program to filter words from a given series that contain atleast two vowels. \n",
    "\n",
    "Original Series:\n",
    "0 Red\n",
    "1 Green\n",
    "2 Orange\n",
    "3 Pink\n",
    "4 Yellow\n",
    "5 White\n",
    "dtype: object\n",
    "Filtered words:\n",
    "1 Green\n",
    "2 Orange\n",
    "4 Yellow\n",
    "5 White'''\n",
    "l=[]\n",
    "c=0\n",
    "ser=pd.Series([\"Red\",\"green\",\"orange\",\"pink\",\"yellow\",\"white\"])\n",
    "for index,value in ser.items():\n",
    "    for j in value:\n",
    "        if j in \"aeiou\":\n",
    "            c=c+1\n",
    "    if c>=2:\n",
    "        l.append(value)\n",
    "print(l)"
   ]
  },
  {
   "cell_type": "code",
   "execution_count": 25,
   "id": "7d8d485b",
   "metadata": {},
   "outputs": [
    {
     "name": "stdout",
     "output_type": "stream",
     "text": [
      " i shows least frequent character\n",
      "green\n"
     ]
    }
   ],
   "source": [
    "'''Write a Pandas program to replace missing white spaces in a given string with the least frequent character. \n",
    "Sample Output:\n",
    "Original series:\n",
    "abc def abcdef icd\n",
    "c 3\n",
    "d 3\n",
    "3\n",
    "b 2\n",
    "e 2\n",
    "a 2\n",
    "f 2\n",
    "i 1\n",
    "dtype: int64\n",
    "abcidefiabcdefiicd'''\n",
    "from collections import Counter\n",
    "ser=pd.Series([\"abc def abcdef icd\"])\n",
    "for i in ser:\n",
    "    l1=Counter(i)\n",
    "\n",
    "print(\" i shows least frequent character\")\n",
    "\n",
    "ser=str(ser)\n",
    "\n",
    "ser1=l[0].replace(\" \",\"i\")\n",
    "print(ser1)"
   ]
  },
  {
   "cell_type": "code",
   "execution_count": null,
   "id": "334d2245",
   "metadata": {},
   "outputs": [],
   "source": []
  }
 ],
 "metadata": {
  "kernelspec": {
   "display_name": "Python 3 (ipykernel)",
   "language": "python",
   "name": "python3"
  },
  "language_info": {
   "codemirror_mode": {
    "name": "ipython",
    "version": 3
   },
   "file_extension": ".py",
   "mimetype": "text/x-python",
   "name": "python",
   "nbconvert_exporter": "python",
   "pygments_lexer": "ipython3",
   "version": "3.9.7"
  }
 },
 "nbformat": 4,
 "nbformat_minor": 5
}
